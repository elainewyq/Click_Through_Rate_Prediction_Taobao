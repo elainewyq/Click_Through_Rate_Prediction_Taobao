{
 "cells": [
  {
   "cell_type": "code",
   "execution_count": 1,
   "metadata": {},
   "outputs": [
    {
     "name": "stderr",
     "output_type": "stream",
     "text": [
      "Using TensorFlow backend.\n"
     ]
    }
   ],
   "source": [
    "import csv\n",
    "import numpy as np\n",
    "import pandas as pd\n",
    "import seaborn as sns\n",
    "import matplotlib.pyplot as plt\n",
    "%matplotlib inline\n",
    "import random\n",
    "\n",
    "from sklearn.model_selection import train_test_split\n",
    "from sklearn.impute import SimpleImputer\n",
    "from sklearn.preprocessing import OneHotEncoder, StandardScaler\n",
    "from sklearn.feature_extraction import DictVectorizer\n",
    "from sklearn.utils import resample\n",
    "\n",
    "\n",
    "from sklearn.linear_model import LogisticRegression\n",
    "from sklearn.metrics import log_loss\n",
    "from sklearn.metrics import confusion_matrix\n",
    "from sklearn.metrics import roc_curve, roc_auc_score\n",
    "\n",
    "from sklearn.model_selection import train_test_split, KFold\n",
    "from sklearn.model_selection import cross_val_score\n",
    "\n",
    "from sklearn.tree import DecisionTreeRegressor, DecisionTreeClassifier\n",
    "from sklearn.ensemble import RandomForestRegressor, RandomForestClassifier, GradientBoostingClassifier\n",
    "from sklearn.metrics import log_loss, make_scorer\n",
    "from sklearn.model_selection import cross_val_score, train_test_split, GridSearchCV\n",
    "\n",
    "import xgboost\n",
    "from xgboost import XGBClassifier\n",
    "\n",
    "from ctr_function import Model_Test, get_train_test, Model_Test1, Model_Test2\n",
    "\n",
    "\n",
    "from imblearn.over_sampling import SMOTE"
   ]
  },
  {
   "cell_type": "code",
   "execution_count": null,
   "metadata": {},
   "outputs": [],
   "source": [
    "# ctr_com = pd.read_csv(\"data/ctr_ad_user.csv\")"
   ]
  },
  {
   "cell_type": "code",
   "execution_count": 25,
   "metadata": {},
   "outputs": [],
   "source": [
    "ctr = pd.read_csv(\"data/test/ctr_ad_user_test_ready.csv\")"
   ]
  },
  {
   "cell_type": "code",
   "execution_count": 27,
   "metadata": {},
   "outputs": [
    {
     "data": {
      "text/html": [
       "<div>\n",
       "<style scoped>\n",
       "    .dataframe tbody tr th:only-of-type {\n",
       "        vertical-align: middle;\n",
       "    }\n",
       "\n",
       "    .dataframe tbody tr th {\n",
       "        vertical-align: top;\n",
       "    }\n",
       "\n",
       "    .dataframe thead th {\n",
       "        text-align: right;\n",
       "    }\n",
       "</style>\n",
       "<table border=\"1\" class=\"dataframe\">\n",
       "  <thead>\n",
       "    <tr style=\"text-align: right;\">\n",
       "      <th></th>\n",
       "      <th>Unnamed: 0</th>\n",
       "      <th>user</th>\n",
       "      <th>time_stamp</th>\n",
       "      <th>adgroup_id</th>\n",
       "      <th>nonclk</th>\n",
       "      <th>clk</th>\n",
       "      <th>cate_id</th>\n",
       "      <th>campaign_id</th>\n",
       "      <th>customer</th>\n",
       "      <th>brand</th>\n",
       "      <th>price</th>\n",
       "      <th>cms_segid</th>\n",
       "      <th>cms_group_id</th>\n",
       "      <th>final_gender_code</th>\n",
       "      <th>age_level</th>\n",
       "      <th>pvalue_level</th>\n",
       "      <th>shopping_level</th>\n",
       "      <th>occupation</th>\n",
       "      <th>new_user_class_level</th>\n",
       "    </tr>\n",
       "  </thead>\n",
       "  <tbody>\n",
       "    <tr>\n",
       "      <th>count</th>\n",
       "      <td>3.270320e+06</td>\n",
       "      <td>3.270320e+06</td>\n",
       "      <td>3.270320e+06</td>\n",
       "      <td>3.270320e+06</td>\n",
       "      <td>3.270320e+06</td>\n",
       "      <td>3.270320e+06</td>\n",
       "      <td>3.270320e+06</td>\n",
       "      <td>3.270320e+06</td>\n",
       "      <td>3.270320e+06</td>\n",
       "      <td>2.265438e+06</td>\n",
       "      <td>3.270320e+06</td>\n",
       "      <td>3.072139e+06</td>\n",
       "      <td>3.072139e+06</td>\n",
       "      <td>3.072139e+06</td>\n",
       "      <td>3.072139e+06</td>\n",
       "      <td>1.469546e+06</td>\n",
       "      <td>3.072139e+06</td>\n",
       "      <td>3.072139e+06</td>\n",
       "      <td>2.243598e+06</td>\n",
       "    </tr>\n",
       "    <tr>\n",
       "      <th>mean</th>\n",
       "      <td>1.296932e+07</td>\n",
       "      <td>5.675245e+05</td>\n",
       "      <td>1.494053e+09</td>\n",
       "      <td>4.909300e+05</td>\n",
       "      <td>9.479161e-01</td>\n",
       "      <td>5.208389e-02</td>\n",
       "      <td>5.303881e+03</td>\n",
       "      <td>2.100585e+05</td>\n",
       "      <td>1.106935e+05</td>\n",
       "      <td>2.251102e+05</td>\n",
       "      <td>7.011197e+02</td>\n",
       "      <td>1.490680e+01</td>\n",
       "      <td>5.062081e+00</td>\n",
       "      <td>1.723383e+00</td>\n",
       "      <td>3.403281e+00</td>\n",
       "      <td>1.737026e+00</td>\n",
       "      <td>2.806153e+00</td>\n",
       "      <td>5.202043e-02</td>\n",
       "      <td>2.548588e+00</td>\n",
       "    </tr>\n",
       "    <tr>\n",
       "      <th>std</th>\n",
       "      <td>7.605023e+06</td>\n",
       "      <td>3.294553e+05</td>\n",
       "      <td>2.188024e+04</td>\n",
       "      <td>2.069741e+05</td>\n",
       "      <td>2.221963e-01</td>\n",
       "      <td>2.221963e-01</td>\n",
       "      <td>2.385624e+03</td>\n",
       "      <td>1.246613e+05</td>\n",
       "      <td>7.431768e+04</td>\n",
       "      <td>1.306118e+05</td>\n",
       "      <td>1.221345e+05</td>\n",
       "      <td>2.449921e+01</td>\n",
       "      <td>3.069567e+00</td>\n",
       "      <td>4.473257e-01</td>\n",
       "      <td>1.196512e+00</td>\n",
       "      <td>5.878582e-01</td>\n",
       "      <td>4.963800e-01</td>\n",
       "      <td>2.220683e-01</td>\n",
       "      <td>9.239319e-01</td>\n",
       "    </tr>\n",
       "    <tr>\n",
       "      <th>min</th>\n",
       "      <td>9.000000e+00</td>\n",
       "      <td>4.000000e+00</td>\n",
       "      <td>1.494000e+09</td>\n",
       "      <td>1.000000e+01</td>\n",
       "      <td>0.000000e+00</td>\n",
       "      <td>0.000000e+00</td>\n",
       "      <td>1.000000e+00</td>\n",
       "      <td>1.000000e+00</td>\n",
       "      <td>1.000000e+00</td>\n",
       "      <td>2.000000e+00</td>\n",
       "      <td>1.000000e-02</td>\n",
       "      <td>0.000000e+00</td>\n",
       "      <td>0.000000e+00</td>\n",
       "      <td>1.000000e+00</td>\n",
       "      <td>0.000000e+00</td>\n",
       "      <td>1.000000e+00</td>\n",
       "      <td>1.000000e+00</td>\n",
       "      <td>0.000000e+00</td>\n",
       "      <td>1.000000e+00</td>\n",
       "    </tr>\n",
       "    <tr>\n",
       "      <th>25%</th>\n",
       "      <td>6.059128e+06</td>\n",
       "      <td>2.829970e+05</td>\n",
       "      <td>1.494038e+09</td>\n",
       "      <td>3.473200e+05</td>\n",
       "      <td>1.000000e+00</td>\n",
       "      <td>0.000000e+00</td>\n",
       "      <td>4.282000e+03</td>\n",
       "      <td>1.027250e+05</td>\n",
       "      <td>4.429100e+04</td>\n",
       "      <td>1.066650e+05</td>\n",
       "      <td>8.200000e+01</td>\n",
       "      <td>0.000000e+00</td>\n",
       "      <td>3.000000e+00</td>\n",
       "      <td>1.000000e+00</td>\n",
       "      <td>3.000000e+00</td>\n",
       "      <td>1.000000e+00</td>\n",
       "      <td>3.000000e+00</td>\n",
       "      <td>0.000000e+00</td>\n",
       "      <td>2.000000e+00</td>\n",
       "    </tr>\n",
       "    <tr>\n",
       "      <th>50%</th>\n",
       "      <td>1.297674e+07</td>\n",
       "      <td>5.637560e+05</td>\n",
       "      <td>1.494055e+09</td>\n",
       "      <td>5.410530e+05</td>\n",
       "      <td>1.000000e+00</td>\n",
       "      <td>0.000000e+00</td>\n",
       "      <td>5.869000e+03</td>\n",
       "      <td>2.060590e+05</td>\n",
       "      <td>1.044060e+05</td>\n",
       "      <td>2.254230e+05</td>\n",
       "      <td>1.590000e+02</td>\n",
       "      <td>0.000000e+00</td>\n",
       "      <td>4.000000e+00</td>\n",
       "      <td>2.000000e+00</td>\n",
       "      <td>3.000000e+00</td>\n",
       "      <td>2.000000e+00</td>\n",
       "      <td>3.000000e+00</td>\n",
       "      <td>0.000000e+00</td>\n",
       "      <td>2.000000e+00</td>\n",
       "    </tr>\n",
       "    <tr>\n",
       "      <th>75%</th>\n",
       "      <td>1.983432e+07</td>\n",
       "      <td>8.513120e+05</td>\n",
       "      <td>1.494073e+09</td>\n",
       "      <td>6.553900e+05</td>\n",
       "      <td>1.000000e+00</td>\n",
       "      <td>0.000000e+00</td>\n",
       "      <td>6.426000e+03</td>\n",
       "      <td>3.218500e+05</td>\n",
       "      <td>1.687290e+05</td>\n",
       "      <td>3.373650e+05</td>\n",
       "      <td>3.190000e+02</td>\n",
       "      <td>2.000000e+01</td>\n",
       "      <td>8.000000e+00</td>\n",
       "      <td>2.000000e+00</td>\n",
       "      <td>4.000000e+00</td>\n",
       "      <td>2.000000e+00</td>\n",
       "      <td>3.000000e+00</td>\n",
       "      <td>0.000000e+00</td>\n",
       "      <td>3.000000e+00</td>\n",
       "    </tr>\n",
       "    <tr>\n",
       "      <th>max</th>\n",
       "      <td>2.655796e+07</td>\n",
       "      <td>1.141726e+06</td>\n",
       "      <td>1.494086e+09</td>\n",
       "      <td>8.468110e+05</td>\n",
       "      <td>1.000000e+00</td>\n",
       "      <td>1.000000e+00</td>\n",
       "      <td>1.296000e+04</td>\n",
       "      <td>4.234350e+05</td>\n",
       "      <td>2.558210e+05</td>\n",
       "      <td>4.613210e+05</td>\n",
       "      <td>1.000000e+08</td>\n",
       "      <td>9.600000e+01</td>\n",
       "      <td>1.200000e+01</td>\n",
       "      <td>2.000000e+00</td>\n",
       "      <td>6.000000e+00</td>\n",
       "      <td>3.000000e+00</td>\n",
       "      <td>3.000000e+00</td>\n",
       "      <td>1.000000e+00</td>\n",
       "      <td>4.000000e+00</td>\n",
       "    </tr>\n",
       "  </tbody>\n",
       "</table>\n",
       "</div>"
      ],
      "text/plain": [
       "         Unnamed: 0          user    time_stamp    adgroup_id        nonclk  \\\n",
       "count  3.270320e+06  3.270320e+06  3.270320e+06  3.270320e+06  3.270320e+06   \n",
       "mean   1.296932e+07  5.675245e+05  1.494053e+09  4.909300e+05  9.479161e-01   \n",
       "std    7.605023e+06  3.294553e+05  2.188024e+04  2.069741e+05  2.221963e-01   \n",
       "min    9.000000e+00  4.000000e+00  1.494000e+09  1.000000e+01  0.000000e+00   \n",
       "25%    6.059128e+06  2.829970e+05  1.494038e+09  3.473200e+05  1.000000e+00   \n",
       "50%    1.297674e+07  5.637560e+05  1.494055e+09  5.410530e+05  1.000000e+00   \n",
       "75%    1.983432e+07  8.513120e+05  1.494073e+09  6.553900e+05  1.000000e+00   \n",
       "max    2.655796e+07  1.141726e+06  1.494086e+09  8.468110e+05  1.000000e+00   \n",
       "\n",
       "                clk       cate_id   campaign_id      customer         brand  \\\n",
       "count  3.270320e+06  3.270320e+06  3.270320e+06  3.270320e+06  2.265438e+06   \n",
       "mean   5.208389e-02  5.303881e+03  2.100585e+05  1.106935e+05  2.251102e+05   \n",
       "std    2.221963e-01  2.385624e+03  1.246613e+05  7.431768e+04  1.306118e+05   \n",
       "min    0.000000e+00  1.000000e+00  1.000000e+00  1.000000e+00  2.000000e+00   \n",
       "25%    0.000000e+00  4.282000e+03  1.027250e+05  4.429100e+04  1.066650e+05   \n",
       "50%    0.000000e+00  5.869000e+03  2.060590e+05  1.044060e+05  2.254230e+05   \n",
       "75%    0.000000e+00  6.426000e+03  3.218500e+05  1.687290e+05  3.373650e+05   \n",
       "max    1.000000e+00  1.296000e+04  4.234350e+05  2.558210e+05  4.613210e+05   \n",
       "\n",
       "              price     cms_segid  cms_group_id  final_gender_code  \\\n",
       "count  3.270320e+06  3.072139e+06  3.072139e+06       3.072139e+06   \n",
       "mean   7.011197e+02  1.490680e+01  5.062081e+00       1.723383e+00   \n",
       "std    1.221345e+05  2.449921e+01  3.069567e+00       4.473257e-01   \n",
       "min    1.000000e-02  0.000000e+00  0.000000e+00       1.000000e+00   \n",
       "25%    8.200000e+01  0.000000e+00  3.000000e+00       1.000000e+00   \n",
       "50%    1.590000e+02  0.000000e+00  4.000000e+00       2.000000e+00   \n",
       "75%    3.190000e+02  2.000000e+01  8.000000e+00       2.000000e+00   \n",
       "max    1.000000e+08  9.600000e+01  1.200000e+01       2.000000e+00   \n",
       "\n",
       "          age_level  pvalue_level  shopping_level    occupation  \\\n",
       "count  3.072139e+06  1.469546e+06    3.072139e+06  3.072139e+06   \n",
       "mean   3.403281e+00  1.737026e+00    2.806153e+00  5.202043e-02   \n",
       "std    1.196512e+00  5.878582e-01    4.963800e-01  2.220683e-01   \n",
       "min    0.000000e+00  1.000000e+00    1.000000e+00  0.000000e+00   \n",
       "25%    3.000000e+00  1.000000e+00    3.000000e+00  0.000000e+00   \n",
       "50%    3.000000e+00  2.000000e+00    3.000000e+00  0.000000e+00   \n",
       "75%    4.000000e+00  2.000000e+00    3.000000e+00  0.000000e+00   \n",
       "max    6.000000e+00  3.000000e+00    3.000000e+00  1.000000e+00   \n",
       "\n",
       "       new_user_class_level   \n",
       "count           2.243598e+06  \n",
       "mean            2.548588e+00  \n",
       "std             9.239319e-01  \n",
       "min             1.000000e+00  \n",
       "25%             2.000000e+00  \n",
       "50%             2.000000e+00  \n",
       "75%             3.000000e+00  \n",
       "max             4.000000e+00  "
      ]
     },
     "execution_count": 27,
     "metadata": {},
     "output_type": "execute_result"
    }
   ],
   "source": [
    "ctr.describe()"
   ]
  },
  {
   "cell_type": "code",
   "execution_count": 46,
   "metadata": {},
   "outputs": [],
   "source": [
    "#binning price to add as feature\n",
    "ctr['price_0'] = ctr.apply(lambda row: 1 if row.price <= 1 else 0, axis = 1)\n",
    "ctr['price_1'] = ctr.apply(lambda row: 1 if 1.0 < row.price <= 1.5 else 0, axis = 1)\n",
    "ctr['price_2'] = ctr.apply(lambda row: 1 if 1.5 < row.price <= 2.0 else 0, axis = 1)\n",
    "ctr['price_3'] = ctr.apply(lambda row: 1 if 2.0 < row.price <= 2.5 else 0, axis = 1)\n",
    "ctr['price_4'] = ctr.apply(lambda row: 1 if 2.5 < row.price <= 3.0 else 0, axis = 1)\n",
    "ctr['price_5'] = ctr.apply(lambda row: 1 if 3.0 < row.price <= 3.5 else 0, axis = 1)\n",
    "ctr['price_6'] = ctr.apply(lambda row: 1 if 3.5 < row.price <= 4.0 else 0, axis = 1)\n",
    "ctr['price_7'] = ctr.apply(lambda row: 1 if row.price >4.0 else 0, axis = 1)"
   ]
  },
  {
   "cell_type": "code",
   "execution_count": 5,
   "metadata": {},
   "outputs": [],
   "source": [
    "# Except for feature 'price', fill in all missing value as a new category 'unknow'\n",
    "# ctr.fillna(value= 'Unknow', inplace=True)"
   ]
  },
  {
   "cell_type": "code",
   "execution_count": 32,
   "metadata": {},
   "outputs": [],
   "source": [
    "fea_list = ['pid','cms_group_id', 'final_gender_code', 'age_level',\n",
    "       'pvalue_level', 'shopping_level', 'occupation',\n",
    "       'new_user_class_level ', 'cms_segid']"
   ]
  },
  {
   "cell_type": "markdown",
   "metadata": {},
   "source": [
    "### Logistic regression"
   ]
  },
  {
   "cell_type": "code",
   "execution_count": 109,
   "metadata": {
    "scrolled": false
   },
   "outputs": [],
   "source": [
    "# without feature price\n",
    "# lr = LogisticRegression(class_weight='balanced')\n",
    "# Model_Test(ctr,'clk', lr, fea_list, test_size = 0.3)"
   ]
  },
  {
   "cell_type": "code",
   "execution_count": 110,
   "metadata": {},
   "outputs": [],
   "source": [
    "#Logistic Regression with price\n",
    "# lr = LogisticRegression(class_weight='balanced')\n",
    "# Model_Test(ctr,'clk', lr, fea_list, test_size = 0.3)"
   ]
  },
  {
   "cell_type": "code",
   "execution_count": 111,
   "metadata": {},
   "outputs": [],
   "source": [
    "#Logistic Regression with price\n",
    "lr = LogisticRegression(class_weight={0: 1, 1: 10})\n",
    "Model_Test(ctr,'clk', lr, fea_list, test_size = 0.3)"
   ]
  },
  {
   "cell_type": "code",
   "execution_count": 112,
   "metadata": {},
   "outputs": [],
   "source": [
    "#Logistic Regression with resample\n",
    "lr = LogisticRegression(class_weight='balanced')\n",
    "Model_Test1(ctr,'clk', lr, fea_list, test_size = 0.3)"
   ]
  },
  {
   "cell_type": "code",
   "execution_count": 113,
   "metadata": {},
   "outputs": [],
   "source": [
    "#Logistic Regression with SMOTE\n",
    "lr = LogisticRegression(class_weight='balanced')\n",
    "Model_Test2(ctr,'clk', lr, fea_list, test_size = 0.3)"
   ]
  },
  {
   "cell_type": "markdown",
   "metadata": {},
   "source": [
    "### Random Forest"
   ]
  },
  {
   "cell_type": "code",
   "execution_count": 101,
   "metadata": {
    "scrolled": true
   },
   "outputs": [],
   "source": [
    "#Random Forest without price\n",
    "rf = RandomForestClassifier()\n",
    "Model_Test(ctr,'clk', rf, fea_list, test_size = 0.3)"
   ]
  },
  {
   "cell_type": "code",
   "execution_count": 102,
   "metadata": {
    "scrolled": true
   },
   "outputs": [],
   "source": [
    "#Random Forest with price\n",
    "rf = RandomForestClassifier()\n",
    "Model_Test1(ctr,'clk', rf, fea_list, test_size = 0.3)"
   ]
  },
  {
   "cell_type": "code",
   "execution_count": 103,
   "metadata": {},
   "outputs": [],
   "source": [
    "#Random Forest with SMOTE\n",
    "rf = RandomForestClassifier()\n",
    "Model_Test2(ctr,'clk', rf, fea_list, test_size = 0.3)"
   ]
  },
  {
   "cell_type": "code",
   "execution_count": 30,
   "metadata": {},
   "outputs": [
    {
     "data": {
      "text/plain": [
       "(480274, 21)"
      ]
     },
     "execution_count": 30,
     "metadata": {},
     "output_type": "execute_result"
    }
   ],
   "source": [
    "# Downsampling\n",
    "\n",
    "# keep all positive examples, keep 1/10 negative examples\n",
    "mask = ctr['clk'].apply(lambda c: c>0 or random.random() > 0.9)\n",
    "ctr2 = ctr[mask]\n",
    "ctr2.shape"
   ]
  },
  {
   "cell_type": "code",
   "execution_count": 42,
   "metadata": {},
   "outputs": [
    {
     "name": "stderr",
     "output_type": "stream",
     "text": [
      "/Users/elainewu/anaconda3/lib/python3.7/site-packages/ipykernel_launcher.py:2: SettingWithCopyWarning: \n",
      "A value is trying to be set on a copy of a slice from a DataFrame.\n",
      "Try using .loc[row_indexer,col_indexer] = value instead\n",
      "\n",
      "See the caveats in the documentation: http://pandas.pydata.org/pandas-docs/stable/indexing.html#indexing-view-versus-copy\n",
      "  \n"
     ]
    }
   ],
   "source": [
    "df = ctr2[fea_list]"
   ]
  },
  {
   "cell_type": "code",
   "execution_count": 44,
   "metadata": {},
   "outputs": [
    {
     "data": {
      "text/html": [
       "<div>\n",
       "<style scoped>\n",
       "    .dataframe tbody tr th:only-of-type {\n",
       "        vertical-align: middle;\n",
       "    }\n",
       "\n",
       "    .dataframe tbody tr th {\n",
       "        vertical-align: top;\n",
       "    }\n",
       "\n",
       "    .dataframe thead th {\n",
       "        text-align: right;\n",
       "    }\n",
       "</style>\n",
       "<table border=\"1\" class=\"dataframe\">\n",
       "  <thead>\n",
       "    <tr style=\"text-align: right;\">\n",
       "      <th></th>\n",
       "      <th>cms_group_id</th>\n",
       "      <th>final_gender_code</th>\n",
       "      <th>age_level</th>\n",
       "      <th>pvalue_level</th>\n",
       "      <th>shopping_level</th>\n",
       "      <th>occupation</th>\n",
       "      <th>new_user_class_level</th>\n",
       "      <th>cms_segid</th>\n",
       "      <th>price</th>\n",
       "    </tr>\n",
       "  </thead>\n",
       "  <tbody>\n",
       "    <tr>\n",
       "      <th>count</th>\n",
       "      <td>450829.000000</td>\n",
       "      <td>450829.000000</td>\n",
       "      <td>450829.000000</td>\n",
       "      <td>215097.000000</td>\n",
       "      <td>450829.000000</td>\n",
       "      <td>450829.000000</td>\n",
       "      <td>328412.000000</td>\n",
       "      <td>450829.000000</td>\n",
       "      <td>4.802740e+05</td>\n",
       "    </tr>\n",
       "    <tr>\n",
       "      <th>mean</th>\n",
       "      <td>5.030608</td>\n",
       "      <td>1.728474</td>\n",
       "      <td>3.402341</td>\n",
       "      <td>1.733371</td>\n",
       "      <td>2.803859</td>\n",
       "      <td>0.052479</td>\n",
       "      <td>2.548862</td>\n",
       "      <td>14.757509</td>\n",
       "      <td>5.415803e+02</td>\n",
       "    </tr>\n",
       "    <tr>\n",
       "      <th>std</th>\n",
       "      <td>3.063450</td>\n",
       "      <td>0.444747</td>\n",
       "      <td>1.204615</td>\n",
       "      <td>0.586850</td>\n",
       "      <td>0.499772</td>\n",
       "      <td>0.222991</td>\n",
       "      <td>0.924530</td>\n",
       "      <td>24.367054</td>\n",
       "      <td>1.856645e+04</td>\n",
       "    </tr>\n",
       "    <tr>\n",
       "      <th>min</th>\n",
       "      <td>0.000000</td>\n",
       "      <td>1.000000</td>\n",
       "      <td>0.000000</td>\n",
       "      <td>1.000000</td>\n",
       "      <td>1.000000</td>\n",
       "      <td>0.000000</td>\n",
       "      <td>1.000000</td>\n",
       "      <td>0.000000</td>\n",
       "      <td>3.000000e-02</td>\n",
       "    </tr>\n",
       "    <tr>\n",
       "      <th>25%</th>\n",
       "      <td>3.000000</td>\n",
       "      <td>1.000000</td>\n",
       "      <td>3.000000</td>\n",
       "      <td>1.000000</td>\n",
       "      <td>3.000000</td>\n",
       "      <td>0.000000</td>\n",
       "      <td>2.000000</td>\n",
       "      <td>0.000000</td>\n",
       "      <td>7.900000e+01</td>\n",
       "    </tr>\n",
       "    <tr>\n",
       "      <th>50%</th>\n",
       "      <td>4.000000</td>\n",
       "      <td>2.000000</td>\n",
       "      <td>3.000000</td>\n",
       "      <td>2.000000</td>\n",
       "      <td>3.000000</td>\n",
       "      <td>0.000000</td>\n",
       "      <td>2.000000</td>\n",
       "      <td>0.000000</td>\n",
       "      <td>1.580000e+02</td>\n",
       "    </tr>\n",
       "    <tr>\n",
       "      <th>75%</th>\n",
       "      <td>8.000000</td>\n",
       "      <td>2.000000</td>\n",
       "      <td>4.000000</td>\n",
       "      <td>2.000000</td>\n",
       "      <td>3.000000</td>\n",
       "      <td>0.000000</td>\n",
       "      <td>3.000000</td>\n",
       "      <td>20.000000</td>\n",
       "      <td>3.160000e+02</td>\n",
       "    </tr>\n",
       "    <tr>\n",
       "      <th>max</th>\n",
       "      <td>12.000000</td>\n",
       "      <td>2.000000</td>\n",
       "      <td>6.000000</td>\n",
       "      <td>3.000000</td>\n",
       "      <td>3.000000</td>\n",
       "      <td>1.000000</td>\n",
       "      <td>4.000000</td>\n",
       "      <td>96.000000</td>\n",
       "      <td>9.600000e+06</td>\n",
       "    </tr>\n",
       "  </tbody>\n",
       "</table>\n",
       "</div>"
      ],
      "text/plain": [
       "        cms_group_id  final_gender_code      age_level   pvalue_level  \\\n",
       "count  450829.000000      450829.000000  450829.000000  215097.000000   \n",
       "mean        5.030608           1.728474       3.402341       1.733371   \n",
       "std         3.063450           0.444747       1.204615       0.586850   \n",
       "min         0.000000           1.000000       0.000000       1.000000   \n",
       "25%         3.000000           1.000000       3.000000       1.000000   \n",
       "50%         4.000000           2.000000       3.000000       2.000000   \n",
       "75%         8.000000           2.000000       4.000000       2.000000   \n",
       "max        12.000000           2.000000       6.000000       3.000000   \n",
       "\n",
       "       shopping_level     occupation  new_user_class_level       cms_segid  \\\n",
       "count   450829.000000  450829.000000          328412.000000  450829.000000   \n",
       "mean         2.803859       0.052479               2.548862      14.757509   \n",
       "std          0.499772       0.222991               0.924530      24.367054   \n",
       "min          1.000000       0.000000               1.000000       0.000000   \n",
       "25%          3.000000       0.000000               2.000000       0.000000   \n",
       "50%          3.000000       0.000000               2.000000       0.000000   \n",
       "75%          3.000000       0.000000               3.000000      20.000000   \n",
       "max          3.000000       1.000000               4.000000      96.000000   \n",
       "\n",
       "              price  \n",
       "count  4.802740e+05  \n",
       "mean   5.415803e+02  \n",
       "std    1.856645e+04  \n",
       "min    3.000000e-02  \n",
       "25%    7.900000e+01  \n",
       "50%    1.580000e+02  \n",
       "75%    3.160000e+02  \n",
       "max    9.600000e+06  "
      ]
     },
     "execution_count": 44,
     "metadata": {},
     "output_type": "execute_result"
    }
   ],
   "source": [
    "# df = pd.get_dummies(ctr2[fea_list].astype(str))\n",
    "\n",
    "df.describe()"
   ]
  },
  {
   "cell_type": "markdown",
   "metadata": {},
   "source": [
    "### Gradient boosting"
   ]
  },
  {
   "cell_type": "code",
   "execution_count": 49,
   "metadata": {},
   "outputs": [],
   "source": [
    "#check with SMOTE\n",
    "xgb = XGBClassifier()\n",
    "Model_Test2(ctr,'clk', xgb, fea_list, test_size = 0.3)"
   ]
  },
  {
   "cell_type": "markdown",
   "metadata": {},
   "source": [
    "### More exploration to improve"
   ]
  },
  {
   "cell_type": "code",
   "execution_count": 45,
   "metadata": {},
   "outputs": [],
   "source": [
    "model = XGBClassifier()"
   ]
  },
  {
   "cell_type": "code",
   "execution_count": 46,
   "metadata": {},
   "outputs": [
    {
     "data": {
      "text/plain": [
       "XGBClassifier(base_score=0.5, booster='gbtree', colsample_bylevel=1,\n",
       "              colsample_bynode=1, colsample_bytree=1, gamma=0,\n",
       "              learning_rate=0.1, max_delta_step=0, max_depth=3,\n",
       "              min_child_weight=1, missing=None, n_estimators=100, n_jobs=1,\n",
       "              nthread=None, objective='binary:logistic', random_state=0,\n",
       "              reg_alpha=0, reg_lambda=1, scale_pos_weight=1, seed=None,\n",
       "              silent=None, subsample=1, verbosity=1)"
      ]
     },
     "execution_count": 46,
     "metadata": {},
     "output_type": "execute_result"
    }
   ],
   "source": [
    "model.fit(df, ctr2['clk'])"
   ]
  },
  {
   "cell_type": "code",
   "execution_count": 47,
   "metadata": {},
   "outputs": [
    {
     "name": "stderr",
     "output_type": "stream",
     "text": [
      "/Users/elainewu/anaconda3/lib/python3.7/site-packages/ipykernel_launcher.py:1: SettingWithCopyWarning: \n",
      "A value is trying to be set on a copy of a slice from a DataFrame.\n",
      "Try using .loc[row_indexer,col_indexer] = value instead\n",
      "\n",
      "See the caveats in the documentation: http://pandas.pydata.org/pandas-docs/stable/indexing.html#indexing-view-versus-copy\n",
      "  \"\"\"Entry point for launching an IPython kernel.\n"
     ]
    }
   ],
   "source": [
    "df['proba'] = model.predict_proba(df)[:, 1]\n"
   ]
  },
  {
   "cell_type": "code",
   "execution_count": 48,
   "metadata": {},
   "outputs": [
    {
     "data": {
      "text/plain": [
       "0.5409393248640584"
      ]
     },
     "execution_count": 48,
     "metadata": {},
     "output_type": "execute_result"
    }
   ],
   "source": [
    "roc_auc_score(ctr2['clk'], df['proba'])"
   ]
  },
  {
   "cell_type": "code",
   "execution_count": 18,
   "metadata": {},
   "outputs": [],
   "source": [
    "all_log_loss = log_loss(y_train, y_train_pred[:, 1])\n",
    "x_train"
   ]
  },
  {
   "cell_type": "code",
   "execution_count": null,
   "metadata": {},
   "outputs": [],
   "source": [
    "# Model_Test(ctr, 'clk', xgb, fea_list, test_size = 0.3)"
   ]
  },
  {
   "cell_type": "code",
   "execution_count": 43,
   "metadata": {},
   "outputs": [
    {
     "name": "stdout",
     "output_type": "stream",
     "text": [
      "See the change in train auc and test auc for overfitting/underfitting\n",
      "train auc 0.6694576309720327\n",
      "test auc 0.5286451160168847\n",
      "              precision    recall  f1-score   support\n",
      "\n",
      "           0       0.95      1.00      0.97    930123\n",
      "           1       0.10      0.00      0.00     50973\n",
      "\n",
      "    accuracy                           0.95    981096\n",
      "   macro avg       0.52      0.50      0.49    981096\n",
      "weighted avg       0.90      0.95      0.92    981096\n",
      "\n"
     ]
    },
    {
     "data": {
      "image/png": "[encoded data removed]",
      "text/plain": [
       "<Figure size 864x432 with 2 Axes>"
      ]
     },
     "metadata": {
      "needs_background": "light"
     },
     "output_type": "display_data"
    }
   ],
   "source": [
    "\n"
   ]
  },
  {
   "cell_type": "code",
   "execution_count": 83,
   "metadata": {},
   "outputs": [],
   "source": [
    "fea_list = ['pid','cms_group_id', 'final_gender_code', 'age_level',\n",
    "       'pvalue_level', 'shopping_level', 'occupation',\n",
    "       'new_user_class_level ', \n",
    "            # these features may not be useful.\n",
    "            # 'hour', 'cms_segid', \n",
    "           ]\n",
    "\n",
    "for fea in fea_list:\n",
    "     ctr[fea] = ctr[fea].astype(str)\n"
   ]
  },
  {
   "cell_type": "code",
   "execution_count": 84,
   "metadata": {},
   "outputs": [
    {
     "data": {
      "text/plain": [
       "pid                       2\n",
       "cms_group_id             14\n",
       "final_gender_code         3\n",
       "age_level                 8\n",
       "pvalue_level              4\n",
       "shopping_level            4\n",
       "occupation                3\n",
       "new_user_class_level      5\n",
       "dtype: int64"
      ]
     },
     "execution_count": 84,
     "metadata": {},
     "output_type": "execute_result"
    }
   ],
   "source": [
    "ctr[fea_list].nunique()"
   ]
  },
  {
   "cell_type": "code",
   "execution_count": 85,
   "metadata": {},
   "outputs": [],
   "source": [
    "ctr2 = pd.get_dummies(ctr[fea_list])"
   ]
  },
  {
   "cell_type": "code",
   "execution_count": 87,
   "metadata": {},
   "outputs": [],
   "source": [
    "x_train, x_test, y_train, y_test = train_test_split(ctr2, ctr['clk'], test_size = 0.3)"
   ]
  },
  {
   "cell_type": "code",
   "execution_count": 112,
   "metadata": {},
   "outputs": [
    {
     "data": {
      "text/plain": [
       "XGBClassifier(base_score=0.5, booster='gbtree', colsample_bylevel=1,\n",
       "              colsample_bynode=1, colsample_bytree=1, gamma=0,\n",
       "              learning_rate=0.1, max_delta_step=0, max_depth=5,\n",
       "              min_child_weight=1, missing=None, n_estimators=10, n_jobs=1,\n",
       "              nthread=None, objective='binary:logistic', random_state=0,\n",
       "              reg_alpha=0, reg_lambda=1, scale_pos_weight=1, seed=None,\n",
       "              silent=False, subsample=1, verbosity=1)"
      ]
     },
     "execution_count": 112,
     "metadata": {},
     "output_type": "execute_result"
    }
   ],
   "source": [
    "# random forest\n",
    "#model = RandomForestClassifier(n_estimators=100)\n",
    "\n",
    "\n",
    "model = XGBClassifier(max_depth=5, learning_rate=0.1, n_estimators=10, silent=False)\n",
    "\n",
    "model.fit(x_train, y_train)\n",
    "\n"
   ]
  },
  {
   "cell_type": "code",
   "execution_count": 57,
   "metadata": {},
   "outputs": [],
   "source": [
    "# y_train_pred = model.predict_proba(x_train)\n",
    "# np.histogram(y_train_pred[:, 1], bins=20)\n",
    "# np.histogram(y_test_pred[:, 1], bins=20)\n",
    "# print('test auc', roc_auc_score(y_test, y_test_pred[:, 1]))"
   ]
  },
  {
   "cell_type": "code",
   "execution_count": 123,
   "metadata": {},
   "outputs": [
    {
     "data": {
      "text/plain": [
       "<matplotlib.axes._subplots.AxesSubplot at 0x1a5993ce80>"
      ]
     },
     "execution_count": 123,
     "metadata": {},
     "output_type": "execute_result"
    },
    {
     "data": {
      "image/png": "[encoded data removed]",
      "text/plain": [
       "<Figure size 432x288 with 1 Axes>"
      ]
     },
     "metadata": {
      "needs_background": "light"
     },
     "output_type": "display_data"
    }
   ],
   "source": [
    "# for random forest\n",
    "# feat_scores = pd.DataFrame({'Fraction of Samples Affected' : dt.feature_importances_},\n",
    "#                            index=x_train.columns)\n",
    "# feat_scores = feat_scores.sort_values(by='Fraction of Samples Affected', ascending=False)\n",
    "# feat_scores[:50].plot(kind='barh', figsize=(18,18))\n",
    "\n",
    "# for xgboost\n",
    "xgboost.plot_importance(model)\n",
    "#xgboost.to_graphviz(model, num_trees=1)\n"
   ]
  },
  {
   "cell_type": "markdown",
   "metadata": {},
   "source": [
    "# Try sparse function"
   ]
  },
  {
   "cell_type": "code",
   "execution_count": 94,
   "metadata": {},
   "outputs": [
    {
     "name": "stdout",
     "output_type": "stream",
     "text": [
      "/Users/elainewu/anaconda3/lib/python3.7/site-packages/sklearn/externals/joblib/__init__.py:15: DeprecationWarning: sklearn.externals.joblib is deprecated in 0.21 and will be removed in 0.23. Please import this functionality directly from joblib, which can be installed with: pip install joblib. If this warning is raised when loading pickled models, you may need to re-serialize those models with scikit-learn 0.21+.\n",
      "  warnings.warn(msg, category=DeprecationWarning)\n",
      "Click-through rate models training started...\n",
      "\n",
      "Decision Tree\n",
      "✔  Decision tree model training complete...\"\t\t111.1s\n",
      "              precision    recall  f1-score   support\n",
      "\n",
      "           0       0.95      1.00      0.97     94956\n",
      "           1       0.05      0.00      0.01      5044\n",
      "\n",
      "    accuracy                           0.95    100000\n",
      "   macro avg       0.50      0.50      0.49    100000\n",
      "weighted avg       0.90      0.95      0.92    100000\n",
      "\n",
      "✔  ROC AUC score on test set: 0.505\n",
      "✔  Decision tree model saved...\n",
      "\n",
      "\n",
      "✔  Done\n"
     ]
    }
   ],
   "source": [
    "!python3 ctr_sparse.py"
   ]
  },
  {
   "cell_type": "code",
   "execution_count": 95,
   "metadata": {},
   "outputs": [
    {
     "name": "stdout",
     "output_type": "stream",
     "text": [
      "/Users/elainewu/anaconda3/lib/python3.7/site-packages/sklearn/externals/joblib/__init__.py:15: DeprecationWarning: sklearn.externals.joblib is deprecated in 0.21 and will be removed in 0.23. Please import this functionality directly from joblib, which can be installed with: pip install joblib. If this warning is raised when loading pickled models, you may need to re-serialize those models with scikit-learn 0.21+.\n",
      "  warnings.warn(msg, category=DeprecationWarning)\n",
      "Click-through rate models training started...\n",
      "\n",
      "Decision Tree\n",
      "✔  Decision tree model training complete...\"\t\t3632.4s\n",
      "              precision    recall  f1-score   support\n",
      "\n",
      "           0       0.96      1.00      0.98     95555\n",
      "           1       0.00      0.00      0.00      4445\n",
      "\n",
      "    accuracy                           0.96    100000\n",
      "   macro avg       0.48      0.50      0.49    100000\n",
      "weighted avg       0.91      0.96      0.93    100000\n",
      "\n",
      "✔  ROC AUC score on test set: 0.534\n",
      "✔  Decision tree model saved...\n",
      "\n",
      "\n",
      "✔  Done\n"
     ]
    }
   ],
   "source": [
    "!python3 ctr_sparse.py"
   ]
  },
  {
   "cell_type": "code",
   "execution_count": 100,
   "metadata": {},
   "outputs": [
    {
     "name": "stdout",
     "output_type": "stream",
     "text": [
      "/Users/elainewu/anaconda3/lib/python3.7/site-packages/sklearn/externals/joblib/__init__.py:15: DeprecationWarning: sklearn.externals.joblib is deprecated in 0.21 and will be removed in 0.23. Please import this functionality directly from joblib, which can be installed with: pip install joblib. If this warning is raised when loading pickled models, you may need to re-serialize those models with scikit-learn 0.21+.\n",
      "  warnings.warn(msg, category=DeprecationWarning)\n",
      "Click-through rate models training started...\n",
      "\n",
      "Decision Tree\n",
      "*  Decision tree model training started...\n",
      "✔  Decision tree model training complete...\"\t\t107.5s\n",
      "              precision    recall  f1-score   support\n",
      "\n",
      "           0       0.95      1.00      0.97     94956\n",
      "           1       0.06      0.00      0.01      5044\n",
      "\n",
      "    accuracy                           0.95    100000\n",
      "   macro avg       0.51      0.50      0.49    100000\n",
      "weighted avg       0.90      0.95      0.92    100000\n",
      "\n",
      "✔  ROC AUC score on test set: 0.504\n",
      "✔  Decision tree model saved...\n",
      "\n",
      "\n",
      "SGD Based Logistic Regression\n",
      "*  Logistic regression model training started...\n",
      "✔  Logistic regression model training complete...\"\t\t5.2s\n",
      "              precision    recall  f1-score   support\n",
      "\n",
      "           0       0.95      1.00      0.97     94956\n",
      "           1       0.00      0.00      0.00      5044\n",
      "\n",
      "    accuracy                           0.95    100000\n",
      "   macro avg       0.47      0.50      0.49    100000\n",
      "weighted avg       0.90      0.95      0.92    100000\n",
      "\n",
      "✔  ROC AUC score on test set: 0.530\n",
      "✔  Logistic regression model saved...\n",
      "\n",
      "\n",
      "✔  Done\n"
     ]
    }
   ],
   "source": [
    "!python3 ctr_sparse.py"
   ]
  },
  {
   "cell_type": "markdown",
   "metadata": {},
   "source": [
    "# Model Function"
   ]
  },
  {
   "cell_type": "code",
   "execution_count": 52,
   "metadata": {},
   "outputs": [],
   "source": [
    "# model types\n",
    "models = [LogisticRegression(), RandomForestClassifier(), GradientBoostingClassifier(), XGBClassifier()]\n",
    "\n",
    "#  LR\n",
    "c = [np.logspace(1000, 4000, 10)]\n",
    "penalty = ['l1', 'l2']\n",
    "\n",
    "param_LR = {'C' : c,\n",
    "               'penalty': penalty}\n",
    "\n",
    "#  RF\n",
    "criterion = ['gini','entropy']\n",
    "estimators = [100, 200, 500, 1000]\n",
    "\n",
    "param_RF = {'criterion' : criterion,\n",
    "                #'max_depth' : depth_parm,\n",
    "                'n_estimators' : estimators}\n",
    "\n",
    "# GBR\n",
    "estimators = [100, 500, 1000]\n",
    "learning_rate = [0.1, 0.01, 0.001]\n",
    "\n",
    "param_GBR = {'n_estimators' : estimators,\n",
    "                 'learning_rate' : learning_rate}\n",
    "\n",
    "\n",
    "# XGBR\n",
    "estimators = [100, 500, 1000]\n",
    "learning_rate = [0.1, 0.01, 0.001]\n",
    "\n",
    "param_XGB = {'n_estimators' : estimators,\n",
    "                 'learning_rate' : learning_rate}\n",
    "\n",
    "parameters = [param_LR, param_RF, param_GBR, param_XGB]"
   ]
  },
  {
   "cell_type": "code",
   "execution_count": 53,
   "metadata": {},
   "outputs": [],
   "source": [
    "scorer = make_scorer(log_loss,\n",
    "                     greater_is_better=False,\n",
    "                     needs_proba=True)"
   ]
  },
  {
   "cell_type": "code",
   "execution_count": 54,
   "metadata": {},
   "outputs": [],
   "source": [
    "def run_comparison2(name, X_train, y_train, X_test, y_test, models, parameters = None, scorer = None, zoom = None):\n",
    "#     plt.figure(figsize=(18,10))\n",
    "    fig, axs = plt.subplots(1, 2, figsize = (18, 10))\n",
    "    scores = {}\n",
    "    accuracies = {}\n",
    "    \n",
    "    for i,model in enumerate(models):\n",
    "        \n",
    "        if parameters is not None:\n",
    "            grid = GridSearchCV(model,\n",
    "                           parameters[i],\n",
    "                           cv=5,\n",
    "                           scoring=scorer)\n",
    "        else:\n",
    "            grid = model\n",
    "\n",
    "        grid.fit(X_train,y_train)\n",
    "        \n",
    "        score = -grid.score(X_test, y_test)\n",
    "        accuracy = (grid.predict(X_test) == y_test).mean()    \n",
    "        \n",
    "        scores[model] = score\n",
    "        accuracies[model] = accuracy\n",
    "        \n",
    "        probabilities = grid.predict_proba(X_test)\n",
    "        \n",
    "        if model == LogisticRegression():\n",
    "            print(model.__class__.__name__)\n",
    "            print(grid.coef_)\n",
    "            print(grid.intercept_)\n",
    "#         print(probabilities[:,1])\n",
    "        \n",
    "\n",
    "        tpr, fpr, thresholds = roc_curve(y_test, probabilities[:,1])\n",
    "        \n",
    "        axs[0].plot(tpr, fpr, lw = 3, label = model.__class__.__name__)\n",
    "        \n",
    "        p, r, _ = precision_recall_curve(y_test, probabilities[:, 1])\n",
    "\n",
    "        axs[1].plot(r, p, lw = 3, label = model.__class__.__name__)\n",
    "\n",
    "#         plt.plot(fpr, tpr, lw = 3, label = model.__class__.__name__)\n",
    "\n",
    "        \n",
    "    x = np.linspace(0,1,100)\n",
    "    axs[0].plot(x,x, ls = '--', lw = 2, alpha = 0.9, color = 'grey')\n",
    "    axs[0].set_xlabel(\"False Positive Rate\", size = 15)\n",
    "    axs[0].set_ylabel(\"True Positive Rate\", size = 15)\n",
    "    axs[0].set_title(\"ROC plot - Comparison of models (\" + name + ')', size = 20)\n",
    "    axs[0].legend(prop={'size' : 10})\n",
    "    \n",
    "    axs[1].plot(x,x, ls = '--', lw = 2, alpha = 0.9, color = 'grey')\n",
    "    axs[1].set_xlabel(\"Recall Rate\", size = 15)\n",
    "    axs[1].set_ylabel(\"Precision Rate\", size = 15)\n",
    "    axs[1].set_title(\"Precision Recall plot - Comparison of models (\" + name + ')', size = 20)\n",
    "    axs[1].legend(prop={'size' : 10})\n",
    "    \n",
    "    \n",
    "#     if zoom is not None:\n",
    "#         plt.xlim((0.5,1))\n",
    "#         plt.savefig('roc_' + name + '_zoom.png')\n",
    "#     else:\n",
    "#         plt.savefig('roc_' + name + '.png')\n",
    "    \n",
    "#     plt.show()\n",
    "    \n",
    "    return scores, accuracies"
   ]
  },
  {
   "cell_type": "code",
   "execution_count": 56,
   "metadata": {},
   "outputs": [
    {
     "ename": "TypeError",
     "evalue": "cannot unpack non-iterable NoneType object",
     "output_type": "error",
     "traceback": [
      "\u001b[0;31m---------------------------------------------------------------------------\u001b[0m",
      "\u001b[0;31mTypeError\u001b[0m                                 Traceback (most recent call last)",
      "\u001b[0;32m<ipython-input-56-5d81d3011edd>\u001b[0m in \u001b[0;36m<module>\u001b[0;34m\u001b[0m\n\u001b[0;32m----> 1\u001b[0;31m \u001b[0mx_train\u001b[0m\u001b[0;34m,\u001b[0m \u001b[0mx_test\u001b[0m\u001b[0;34m,\u001b[0m \u001b[0my_train\u001b[0m\u001b[0;34m,\u001b[0m \u001b[0my_test\u001b[0m \u001b[0;34m=\u001b[0m \u001b[0mget_train_test\u001b[0m\u001b[0;34m(\u001b[0m\u001b[0mctr\u001b[0m\u001b[0;34m,\u001b[0m\u001b[0;34m'clk'\u001b[0m\u001b[0;34m,\u001b[0m \u001b[0mfea_list\u001b[0m\u001b[0;34m,\u001b[0m \u001b[0mtest_size\u001b[0m \u001b[0;34m=\u001b[0m \u001b[0;36m0.3\u001b[0m\u001b[0;34m)\u001b[0m\u001b[0;34m\u001b[0m\u001b[0;34m\u001b[0m\u001b[0m\n\u001b[0m",
      "\u001b[0;31mTypeError\u001b[0m: cannot unpack non-iterable NoneType object"
     ]
    }
   ],
   "source": [
    "x_train, x_test, y_train, y_test = get_train_test(ctr,'clk', fea_list, test_size = 0.3)"
   ]
  },
  {
   "cell_type": "code",
   "execution_count": null,
   "metadata": {},
   "outputs": [],
   "source": []
  }
 ],
 "metadata": {
  "kernelspec": {
   "display_name": "Python 3",
   "language": "python",
   "name": "python3"
  },
  "language_info": {
   "codemirror_mode": {
    "name": "ipython",
    "version": 3
   },
   "file_extension": ".py",
   "mimetype": "text/x-python",
   "name": "python",
   "nbconvert_exporter": "python",
   "pygments_lexer": "ipython3",
   "version": "3.7.3"
  }
 },
 "nbformat": 4,
 "nbformat_minor": 2
}
