{
 "cells": [
  {
   "cell_type": "markdown",
   "metadata": {},
   "source": [
    "### Data Schema\n",
    "\n",
    "* User ID\n",
    "* Btag: user behavior type - pv: browse, cart: add to cart, fav: like, buy: buy\n",
    "* Category: item category id\n",
    "* Brand: advertised item's brand\n",
    "* Timestamp: session time_stamp\n",
    "\n",
    "The entire dataset contains more than 700 million logs, covering all the users in the impression/click logs for their 22 days behavior. Here we chose the first 7 million logs (1%) to explore and perform basic data analysis."
   ]
  },
  {
   "cell_type": "code",
   "execution_count": 2,
   "metadata": {},
   "outputs": [],
   "source": [
    "import pandas as pd\n",
    "import matplotlib.pyplot as plt\n",
    "import seaborn as sns"
   ]
  },
  {
   "cell_type": "code",
   "execution_count": 3,
   "metadata": {},
   "outputs": [],
   "source": [
    "behavior = pd.read_csv('data/behavior_test.csv')\n",
    "\n",
    "# behavior = pd.read_csv('data/behavior_test2.csv', names = ['user', 'time_stamp', 'btag', 'cate', 'brand']) #used for another set of testing file"
   ]
  },
  {
   "cell_type": "markdown",
   "metadata": {},
   "source": [
    "### Overview"
   ]
  },
  {
   "cell_type": "code",
   "execution_count": 4,
   "metadata": {},
   "outputs": [
    {
     "name": "stdout",
     "output_type": "stream",
     "text": [
      "<class 'pandas.core.frame.DataFrame'>\n",
      "RangeIndex: 7000000 entries, 0 to 6999999\n",
      "Data columns (total 5 columns):\n",
      "user          int64\n",
      "time_stamp    int64\n",
      "btag          object\n",
      "cate          int64\n",
      "brand         int64\n",
      "dtypes: int64(4), object(1)\n",
      "memory usage: 267.0+ MB\n"
     ]
    }
   ],
   "source": [
    "behavior.info()"
   ]
  },
  {
   "cell_type": "code",
   "execution_count": 5,
   "metadata": {},
   "outputs": [
    {
     "data": {
      "text/plain": [
       "Index(['user', 'time_stamp', 'btag', 'cate', 'brand'], dtype='object')"
      ]
     },
     "execution_count": 5,
     "metadata": {},
     "output_type": "execute_result"
    }
   ],
   "source": [
    "behavior.columns"
   ]
  },
  {
   "cell_type": "code",
   "execution_count": 6,
   "metadata": {},
   "outputs": [
    {
     "data": {
      "text/html": [
       "<div>\n",
       "<style scoped>\n",
       "    .dataframe tbody tr th:only-of-type {\n",
       "        vertical-align: middle;\n",
       "    }\n",
       "\n",
       "    .dataframe tbody tr th {\n",
       "        vertical-align: top;\n",
       "    }\n",
       "\n",
       "    .dataframe thead th {\n",
       "        text-align: right;\n",
       "    }\n",
       "</style>\n",
       "<table border=\"1\" class=\"dataframe\">\n",
       "  <thead>\n",
       "    <tr style=\"text-align: right;\">\n",
       "      <th></th>\n",
       "      <th>user</th>\n",
       "      <th>time_stamp</th>\n",
       "      <th>btag</th>\n",
       "      <th>cate</th>\n",
       "      <th>brand</th>\n",
       "    </tr>\n",
       "  </thead>\n",
       "  <tbody>\n",
       "    <tr>\n",
       "      <th>0</th>\n",
       "      <td>558157</td>\n",
       "      <td>1493741625</td>\n",
       "      <td>pv</td>\n",
       "      <td>6250</td>\n",
       "      <td>91286</td>\n",
       "    </tr>\n",
       "    <tr>\n",
       "      <th>1</th>\n",
       "      <td>558157</td>\n",
       "      <td>1493741626</td>\n",
       "      <td>pv</td>\n",
       "      <td>6250</td>\n",
       "      <td>91286</td>\n",
       "    </tr>\n",
       "    <tr>\n",
       "      <th>2</th>\n",
       "      <td>558157</td>\n",
       "      <td>1493741627</td>\n",
       "      <td>pv</td>\n",
       "      <td>6250</td>\n",
       "      <td>91286</td>\n",
       "    </tr>\n",
       "    <tr>\n",
       "      <th>3</th>\n",
       "      <td>728690</td>\n",
       "      <td>1493776998</td>\n",
       "      <td>pv</td>\n",
       "      <td>11800</td>\n",
       "      <td>62353</td>\n",
       "    </tr>\n",
       "    <tr>\n",
       "      <th>4</th>\n",
       "      <td>332634</td>\n",
       "      <td>1493809895</td>\n",
       "      <td>pv</td>\n",
       "      <td>1101</td>\n",
       "      <td>365477</td>\n",
       "    </tr>\n",
       "  </tbody>\n",
       "</table>\n",
       "</div>"
      ],
      "text/plain": [
       "     user  time_stamp btag   cate   brand\n",
       "0  558157  1493741625   pv   6250   91286\n",
       "1  558157  1493741626   pv   6250   91286\n",
       "2  558157  1493741627   pv   6250   91286\n",
       "3  728690  1493776998   pv  11800   62353\n",
       "4  332634  1493809895   pv   1101  365477"
      ]
     },
     "execution_count": 6,
     "metadata": {},
     "output_type": "execute_result"
    }
   ],
   "source": [
    "behavior.head()"
   ]
  },
  {
   "cell_type": "code",
   "execution_count": 7,
   "metadata": {},
   "outputs": [],
   "source": [
    "# convert timestamp to readable time format\n",
    "behavior['time'] = pd.to_datetime(behavior['time_stamp'], unit='s')"
   ]
  },
  {
   "cell_type": "code",
   "execution_count": 8,
   "metadata": {},
   "outputs": [
    {
     "data": {
      "text/html": [
       "<div>\n",
       "<style scoped>\n",
       "    .dataframe tbody tr th:only-of-type {\n",
       "        vertical-align: middle;\n",
       "    }\n",
       "\n",
       "    .dataframe tbody tr th {\n",
       "        vertical-align: top;\n",
       "    }\n",
       "\n",
       "    .dataframe thead th {\n",
       "        text-align: right;\n",
       "    }\n",
       "</style>\n",
       "<table border=\"1\" class=\"dataframe\">\n",
       "  <thead>\n",
       "    <tr style=\"text-align: right;\">\n",
       "      <th></th>\n",
       "      <th>user</th>\n",
       "      <th>time_stamp</th>\n",
       "      <th>btag</th>\n",
       "      <th>cate</th>\n",
       "      <th>brand</th>\n",
       "      <th>time</th>\n",
       "    </tr>\n",
       "  </thead>\n",
       "  <tbody>\n",
       "    <tr>\n",
       "      <th>0</th>\n",
       "      <td>558157</td>\n",
       "      <td>1493741625</td>\n",
       "      <td>pv</td>\n",
       "      <td>6250</td>\n",
       "      <td>91286</td>\n",
       "      <td>2017-05-02 16:13:45</td>\n",
       "    </tr>\n",
       "    <tr>\n",
       "      <th>1</th>\n",
       "      <td>558157</td>\n",
       "      <td>1493741626</td>\n",
       "      <td>pv</td>\n",
       "      <td>6250</td>\n",
       "      <td>91286</td>\n",
       "      <td>2017-05-02 16:13:46</td>\n",
       "    </tr>\n",
       "    <tr>\n",
       "      <th>2</th>\n",
       "      <td>558157</td>\n",
       "      <td>1493741627</td>\n",
       "      <td>pv</td>\n",
       "      <td>6250</td>\n",
       "      <td>91286</td>\n",
       "      <td>2017-05-02 16:13:47</td>\n",
       "    </tr>\n",
       "    <tr>\n",
       "      <th>3</th>\n",
       "      <td>728690</td>\n",
       "      <td>1493776998</td>\n",
       "      <td>pv</td>\n",
       "      <td>11800</td>\n",
       "      <td>62353</td>\n",
       "      <td>2017-05-03 02:03:18</td>\n",
       "    </tr>\n",
       "    <tr>\n",
       "      <th>4</th>\n",
       "      <td>332634</td>\n",
       "      <td>1493809895</td>\n",
       "      <td>pv</td>\n",
       "      <td>1101</td>\n",
       "      <td>365477</td>\n",
       "      <td>2017-05-03 11:11:35</td>\n",
       "    </tr>\n",
       "  </tbody>\n",
       "</table>\n",
       "</div>"
      ],
      "text/plain": [
       "     user  time_stamp btag   cate   brand                time\n",
       "0  558157  1493741625   pv   6250   91286 2017-05-02 16:13:45\n",
       "1  558157  1493741626   pv   6250   91286 2017-05-02 16:13:46\n",
       "2  558157  1493741627   pv   6250   91286 2017-05-02 16:13:47\n",
       "3  728690  1493776998   pv  11800   62353 2017-05-03 02:03:18\n",
       "4  332634  1493809895   pv   1101  365477 2017-05-03 11:11:35"
      ]
     },
     "execution_count": 8,
     "metadata": {},
     "output_type": "execute_result"
    }
   ],
   "source": [
    "behavior.head()"
   ]
  },
  {
   "cell_type": "code",
   "execution_count": 9,
   "metadata": {},
   "outputs": [
    {
     "data": {
      "text/plain": [
       "user          0\n",
       "time_stamp    0\n",
       "btag          0\n",
       "cate          0\n",
       "brand         0\n",
       "time          0\n",
       "dtype: int64"
      ]
     },
     "execution_count": 9,
     "metadata": {},
     "output_type": "execute_result"
    }
   ],
   "source": [
    "#check missing values\n",
    "behavior.isnull().sum()"
   ]
  },
  {
   "cell_type": "code",
   "execution_count": 10,
   "metadata": {},
   "outputs": [
    {
     "data": {
      "text/plain": [
       "user          585953\n",
       "time_stamp    174187\n",
       "btag               4\n",
       "cate            8840\n",
       "brand         146249\n",
       "time          174187\n",
       "dtype: int64"
      ]
     },
     "execution_count": 10,
     "metadata": {},
     "output_type": "execute_result"
    }
   ],
   "source": [
    "#check unique values\n",
    "behavior.nunique()"
   ]
  },
  {
   "cell_type": "code",
   "execution_count": 11,
   "metadata": {
    "scrolled": true
   },
   "outputs": [
    {
     "data": {
      "text/plain": [
       "(Timestamp('1903-06-03 07:14:13'), Timestamp('2032-11-26 06:16:14'))"
      ]
     },
     "execution_count": 11,
     "metadata": {},
     "output_type": "execute_result"
    }
   ],
   "source": [
    "#check the timeframe of the dataset\n",
    "behavior['time'].min(), behavior['time'].max()"
   ]
  },
  {
   "cell_type": "markdown",
   "metadata": {},
   "source": [
    "We noticed that the earliest and latest log time doesn't make sense. It may be because some of the timestamps collected went wrong. Per the dataset description by source provider, the behavior logs includes the information of users behavior in the 22 days prior to the impression/click logs (including the 8 days of the impression/click logs).\n",
    "\n",
    "Below we extracted all the wrong timestamp which are earlier than 2017-4-20 or later than 2017-5-13 to see how many abnormal logs we have."
   ]
  },
  {
   "cell_type": "code",
   "execution_count": 12,
   "metadata": {},
   "outputs": [],
   "source": [
    "cut1 = pd.to_datetime('2017-04-21 00:00:00')\n",
    "cut2 = pd.to_datetime('2017-05-13 15:59:46')\n",
    "behavior_weird = behavior[(behavior['time'] > cut2) | (behavior['time'] < cut1)]"
   ]
  },
  {
   "cell_type": "code",
   "execution_count": 13,
   "metadata": {},
   "outputs": [
    {
     "name": "stdout",
     "output_type": "stream",
     "text": [
      "<class 'pandas.core.frame.DataFrame'>\n",
      "Int64Index: 440 entries, 1657 to 6964962\n",
      "Data columns (total 6 columns):\n",
      "user          440 non-null int64\n",
      "time_stamp    440 non-null int64\n",
      "btag          440 non-null object\n",
      "cate          440 non-null int64\n",
      "brand         440 non-null int64\n",
      "time          440 non-null datetime64[ns]\n",
      "dtypes: datetime64[ns](1), int64(4), object(1)\n",
      "memory usage: 24.1+ KB\n"
     ]
    }
   ],
   "source": [
    "behavior_weird.info()"
   ]
  },
  {
   "cell_type": "code",
   "execution_count": 14,
   "metadata": {},
   "outputs": [
    {
     "data": {
      "text/html": [
       "<div>\n",
       "<style scoped>\n",
       "    .dataframe tbody tr th:only-of-type {\n",
       "        vertical-align: middle;\n",
       "    }\n",
       "\n",
       "    .dataframe tbody tr th {\n",
       "        vertical-align: top;\n",
       "    }\n",
       "\n",
       "    .dataframe thead th {\n",
       "        text-align: right;\n",
       "    }\n",
       "</style>\n",
       "<table border=\"1\" class=\"dataframe\">\n",
       "  <thead>\n",
       "    <tr style=\"text-align: right;\">\n",
       "      <th></th>\n",
       "      <th>user</th>\n",
       "      <th>time_stamp</th>\n",
       "      <th>btag</th>\n",
       "      <th>cate</th>\n",
       "      <th>brand</th>\n",
       "      <th>time</th>\n",
       "    </tr>\n",
       "  </thead>\n",
       "  <tbody>\n",
       "    <tr>\n",
       "      <th>1657</th>\n",
       "      <td>537182</td>\n",
       "      <td>1725192889</td>\n",
       "      <td>pv</td>\n",
       "      <td>10579</td>\n",
       "      <td>355626</td>\n",
       "      <td>2024-09-01 12:14:49</td>\n",
       "    </tr>\n",
       "    <tr>\n",
       "      <th>17359</th>\n",
       "      <td>737236</td>\n",
       "      <td>1480577784</td>\n",
       "      <td>pv</td>\n",
       "      <td>5957</td>\n",
       "      <td>248541</td>\n",
       "      <td>2016-12-01 07:36:24</td>\n",
       "    </tr>\n",
       "    <tr>\n",
       "      <th>50406</th>\n",
       "      <td>1031429</td>\n",
       "      <td>-1366384882</td>\n",
       "      <td>pv</td>\n",
       "      <td>6173</td>\n",
       "      <td>131163</td>\n",
       "      <td>1926-09-14 08:38:38</td>\n",
       "    </tr>\n",
       "    <tr>\n",
       "      <th>50407</th>\n",
       "      <td>1031429</td>\n",
       "      <td>-1366385565</td>\n",
       "      <td>pv</td>\n",
       "      <td>6173</td>\n",
       "      <td>131163</td>\n",
       "      <td>1926-09-14 08:27:15</td>\n",
       "    </tr>\n",
       "    <tr>\n",
       "      <th>50408</th>\n",
       "      <td>1031429</td>\n",
       "      <td>-1366384922</td>\n",
       "      <td>pv</td>\n",
       "      <td>6173</td>\n",
       "      <td>131163</td>\n",
       "      <td>1926-09-14 08:37:58</td>\n",
       "    </tr>\n",
       "  </tbody>\n",
       "</table>\n",
       "</div>"
      ],
      "text/plain": [
       "          user  time_stamp btag   cate   brand                time\n",
       "1657    537182  1725192889   pv  10579  355626 2024-09-01 12:14:49\n",
       "17359   737236  1480577784   pv   5957  248541 2016-12-01 07:36:24\n",
       "50406  1031429 -1366384882   pv   6173  131163 1926-09-14 08:38:38\n",
       "50407  1031429 -1366385565   pv   6173  131163 1926-09-14 08:27:15\n",
       "50408  1031429 -1366384922   pv   6173  131163 1926-09-14 08:37:58"
      ]
     },
     "execution_count": 14,
     "metadata": {},
     "output_type": "execute_result"
    }
   ],
   "source": [
    "behavior_weird.head()"
   ]
  },
  {
   "cell_type": "code",
   "execution_count": 15,
   "metadata": {},
   "outputs": [
    {
     "name": "stdout",
     "output_type": "stream",
     "text": [
      "There are 440 logs which are earlier than 2017-1-1 or later than 2017-5-13\n",
      "It consists of 0.006 percentage of the total dataset\n"
     ]
    }
   ],
   "source": [
    "m = len(behavior_weird)\n",
    "print('There are %d logs which are earlier than 2017-1-1 or later than 2017-5-13'%m)\n",
    "print('It consists of %.3f percentage of the total dataset'%(m*100/len(behavior)))"
   ]
  },
  {
   "cell_type": "markdown",
   "metadata": {},
   "source": [
    "We will drop all these 'weird' entries. In addition, the users behavior after 2017-5-12 15:59:46 is \"future\" info which should not be included for our prediction (the test data is from 2017-5-12 16:00 to 2017-5-13 15:59). Therefore, we will drop all logs earlier than 2017-4-12 and later than 2017-5-12."
   ]
  },
  {
   "cell_type": "code",
   "execution_count": 16,
   "metadata": {},
   "outputs": [],
   "source": [
    "cut3 = pd.to_datetime('2017-05-12 15:59:46')\n",
    "user_bhv = behavior[(behavior['time'] <= cut3) & (behavior['time'] >= cut1)]"
   ]
  },
  {
   "cell_type": "code",
   "execution_count": 17,
   "metadata": {},
   "outputs": [
    {
     "name": "stdout",
     "output_type": "stream",
     "text": [
      "<class 'pandas.core.frame.DataFrame'>\n",
      "Int64Index: 6999560 entries, 0 to 6999999\n",
      "Data columns (total 6 columns):\n",
      "user          int64\n",
      "time_stamp    int64\n",
      "btag          object\n",
      "cate          int64\n",
      "brand         int64\n",
      "time          datetime64[ns]\n",
      "dtypes: datetime64[ns](1), int64(4), object(1)\n",
      "memory usage: 373.8+ MB\n"
     ]
    }
   ],
   "source": [
    "user_bhv.info()"
   ]
  },
  {
   "cell_type": "code",
   "execution_count": 18,
   "metadata": {},
   "outputs": [
    {
     "data": {
      "text/plain": [
       "(Timestamp('2017-05-12 12:33:44'), Timestamp('2017-04-21 00:48:28'))"
      ]
     },
     "execution_count": 18,
     "metadata": {},
     "output_type": "execute_result"
    }
   ],
   "source": [
    "user_bhv.time.max(), user_bhv.time.min()"
   ]
  },
  {
   "cell_type": "code",
   "execution_count": 19,
   "metadata": {},
   "outputs": [],
   "source": [
    "# check how many logs happen between the timeframe of impression/click logs\n",
    "cut_low = pd.to_datetime('2017-05-05 16:00:00')\n",
    "cut_up = pd.to_datetime('2017-05-12 15:59:46')"
   ]
  },
  {
   "cell_type": "code",
   "execution_count": 20,
   "metadata": {},
   "outputs": [],
   "source": [
    "behavior_match_clklog = user_bhv[(user_bhv['time'] > cut_low) & (user_bhv['time'] < cut_up)]"
   ]
  },
  {
   "cell_type": "code",
   "execution_count": 21,
   "metadata": {},
   "outputs": [
    {
     "name": "stdout",
     "output_type": "stream",
     "text": [
      "<class 'pandas.core.frame.DataFrame'>\n",
      "Int64Index: 294890 entries, 131366 to 6999999\n",
      "Data columns (total 6 columns):\n",
      "user          294890 non-null int64\n",
      "time_stamp    294890 non-null int64\n",
      "btag          294890 non-null object\n",
      "cate          294890 non-null int64\n",
      "brand         294890 non-null int64\n",
      "time          294890 non-null datetime64[ns]\n",
      "dtypes: datetime64[ns](1), int64(4), object(1)\n",
      "memory usage: 15.7+ MB\n"
     ]
    }
   ],
   "source": [
    "behavior_match_clklog.info()"
   ]
  },
  {
   "cell_type": "code",
   "execution_count": 22,
   "metadata": {},
   "outputs": [
    {
     "name": "stdout",
     "output_type": "stream",
     "text": [
      "The number of behavior logs between the timeframe of impression/click logs is 294890\n",
      "It consists of 4.21 percentage of the total dataset\n"
     ]
    }
   ],
   "source": [
    "print('The number of behavior logs between the timeframe of impression/click logs is %d'%len(behavior_match_clklog))\n",
    "print('It consists of %.2f percentage of the total dataset'%(100*len(behavior_match_clklog)/len(user_bhv)))"
   ]
  },
  {
   "cell_type": "code",
   "execution_count": 23,
   "metadata": {},
   "outputs": [
    {
     "data": {
      "text/plain": [
       "user          585917\n",
       "time_stamp    173759\n",
       "btag               4\n",
       "cate            8840\n",
       "brand         146243\n",
       "time          173759\n",
       "dtype: int64"
      ]
     },
     "execution_count": 23,
     "metadata": {},
     "output_type": "execute_result"
    }
   ],
   "source": [
    "user_bhv.nunique()"
   ]
  },
  {
   "cell_type": "code",
   "execution_count": 24,
   "metadata": {},
   "outputs": [
    {
     "name": "stderr",
     "output_type": "stream",
     "text": [
      "/Users/elainewu/anaconda3/lib/python3.7/site-packages/ipykernel_launcher.py:1: SettingWithCopyWarning: \n",
      "A value is trying to be set on a copy of a slice from a DataFrame.\n",
      "Try using .loc[row_indexer,col_indexer] = value instead\n",
      "\n",
      "See the caveats in the documentation: http://pandas.pydata.org/pandas-docs/stable/indexing.html#indexing-view-versus-copy\n",
      "  \"\"\"Entry point for launching an IPython kernel.\n",
      "/Users/elainewu/anaconda3/lib/python3.7/site-packages/ipykernel_launcher.py:2: SettingWithCopyWarning: \n",
      "A value is trying to be set on a copy of a slice from a DataFrame.\n",
      "Try using .loc[row_indexer,col_indexer] = value instead\n",
      "\n",
      "See the caveats in the documentation: http://pandas.pydata.org/pandas-docs/stable/indexing.html#indexing-view-versus-copy\n",
      "  \n"
     ]
    }
   ],
   "source": [
    "user_bhv['hour'] = user_bhv['time'].dt.hour \n",
    "user_bhv['day'] = user_bhv['time'].dt.date"
   ]
  },
  {
   "cell_type": "code",
   "execution_count": 25,
   "metadata": {},
   "outputs": [
    {
     "data": {
      "text/plain": [
       "2017-05-03    5930308\n",
       "2017-05-02     770929\n",
       "2017-05-06     257506\n",
       "2017-05-05      38003\n",
       "2017-05-01       1725\n",
       "2017-04-30        461\n",
       "2017-05-04        230\n",
       "2017-04-29        148\n",
       "2017-04-28        118\n",
       "2017-04-27         47\n",
       "2017-04-24         19\n",
       "2017-04-25         16\n",
       "2017-04-26         14\n",
       "2017-04-22         11\n",
       "2017-05-07         10\n",
       "2017-04-23          5\n",
       "2017-05-12          4\n",
       "2017-05-10          4\n",
       "2017-04-21          2\n",
       "Name: day, dtype: int64"
      ]
     },
     "execution_count": 25,
     "metadata": {},
     "output_type": "execute_result"
    }
   ],
   "source": [
    "user_bhv.day.value_counts()"
   ]
  },
  {
   "cell_type": "code",
   "execution_count": 26,
   "metadata": {},
   "outputs": [
    {
     "data": {
      "image/png": "[encoded data removed]",
      "text/plain": [
       "<Figure size 432x288 with 1 Axes>"
      ]
     },
     "metadata": {
      "needs_background": "light"
     },
     "output_type": "display_data"
    }
   ],
   "source": [
    "plt.hist(user_bhv.hour)\n",
    "plt.title('The number of logs in each hour');"
   ]
  },
  {
   "cell_type": "markdown",
   "metadata": {},
   "source": [
    "Since we are not sure which timezone the data timestamp is using, we will not use this to identity which hour has the most logs. However we can still use this feature as a predictor since the visits in diff hours are every different."
   ]
  },
  {
   "cell_type": "markdown",
   "metadata": {},
   "source": [
    "Based on the analysis and treatment above, we get a dataset of user's behavior from 2017-4-21 to 2017-5-12 (22 days)."
   ]
  },
  {
   "cell_type": "markdown",
   "metadata": {},
   "source": [
    "### Explore user log frequency"
   ]
  },
  {
   "cell_type": "code",
   "execution_count": 27,
   "metadata": {},
   "outputs": [
    {
     "name": "stdout",
     "output_type": "stream",
     "text": [
      "<class 'pandas.core.frame.DataFrame'>\n",
      "Int64Index: 585917 entries, 1 to 1141726\n",
      "Data columns (total 7 columns):\n",
      "time_stamp    585917 non-null int64\n",
      "btag          585917 non-null int64\n",
      "cate          585917 non-null int64\n",
      "brand         585917 non-null int64\n",
      "time          585917 non-null int64\n",
      "hour          585917 non-null int64\n",
      "day           585917 non-null int64\n",
      "dtypes: int64(7)\n",
      "memory usage: 35.8 MB\n"
     ]
    }
   ],
   "source": [
    "#check how many logs each user has in the dataset\n",
    "log_count = user_bhv.groupby('user').count()\n",
    "log_count.info()"
   ]
  },
  {
   "cell_type": "code",
   "execution_count": 28,
   "metadata": {},
   "outputs": [
    {
     "data": {
      "text/html": [
       "<div>\n",
       "<style scoped>\n",
       "    .dataframe tbody tr th:only-of-type {\n",
       "        vertical-align: middle;\n",
       "    }\n",
       "\n",
       "    .dataframe tbody tr th {\n",
       "        vertical-align: top;\n",
       "    }\n",
       "\n",
       "    .dataframe thead th {\n",
       "        text-align: right;\n",
       "    }\n",
       "</style>\n",
       "<table border=\"1\" class=\"dataframe\">\n",
       "  <thead>\n",
       "    <tr style=\"text-align: right;\">\n",
       "      <th></th>\n",
       "      <th>time_stamp</th>\n",
       "      <th>btag</th>\n",
       "      <th>cate</th>\n",
       "      <th>brand</th>\n",
       "      <th>time</th>\n",
       "      <th>hour</th>\n",
       "      <th>day</th>\n",
       "    </tr>\n",
       "  </thead>\n",
       "  <tbody>\n",
       "    <tr>\n",
       "      <th>count</th>\n",
       "      <td>585917.000000</td>\n",
       "      <td>585917.000000</td>\n",
       "      <td>585917.000000</td>\n",
       "      <td>585917.000000</td>\n",
       "      <td>585917.000000</td>\n",
       "      <td>585917.000000</td>\n",
       "      <td>585917.000000</td>\n",
       "    </tr>\n",
       "    <tr>\n",
       "      <th>mean</th>\n",
       "      <td>11.946334</td>\n",
       "      <td>11.946334</td>\n",
       "      <td>11.946334</td>\n",
       "      <td>11.946334</td>\n",
       "      <td>11.946334</td>\n",
       "      <td>11.946334</td>\n",
       "      <td>11.946334</td>\n",
       "    </tr>\n",
       "    <tr>\n",
       "      <th>std</th>\n",
       "      <td>18.038678</td>\n",
       "      <td>18.038678</td>\n",
       "      <td>18.038678</td>\n",
       "      <td>18.038678</td>\n",
       "      <td>18.038678</td>\n",
       "      <td>18.038678</td>\n",
       "      <td>18.038678</td>\n",
       "    </tr>\n",
       "    <tr>\n",
       "      <th>min</th>\n",
       "      <td>1.000000</td>\n",
       "      <td>1.000000</td>\n",
       "      <td>1.000000</td>\n",
       "      <td>1.000000</td>\n",
       "      <td>1.000000</td>\n",
       "      <td>1.000000</td>\n",
       "      <td>1.000000</td>\n",
       "    </tr>\n",
       "    <tr>\n",
       "      <th>25%</th>\n",
       "      <td>2.000000</td>\n",
       "      <td>2.000000</td>\n",
       "      <td>2.000000</td>\n",
       "      <td>2.000000</td>\n",
       "      <td>2.000000</td>\n",
       "      <td>2.000000</td>\n",
       "      <td>2.000000</td>\n",
       "    </tr>\n",
       "    <tr>\n",
       "      <th>50%</th>\n",
       "      <td>6.000000</td>\n",
       "      <td>6.000000</td>\n",
       "      <td>6.000000</td>\n",
       "      <td>6.000000</td>\n",
       "      <td>6.000000</td>\n",
       "      <td>6.000000</td>\n",
       "      <td>6.000000</td>\n",
       "    </tr>\n",
       "    <tr>\n",
       "      <th>75%</th>\n",
       "      <td>14.000000</td>\n",
       "      <td>14.000000</td>\n",
       "      <td>14.000000</td>\n",
       "      <td>14.000000</td>\n",
       "      <td>14.000000</td>\n",
       "      <td>14.000000</td>\n",
       "      <td>14.000000</td>\n",
       "    </tr>\n",
       "    <tr>\n",
       "      <th>max</th>\n",
       "      <td>690.000000</td>\n",
       "      <td>690.000000</td>\n",
       "      <td>690.000000</td>\n",
       "      <td>690.000000</td>\n",
       "      <td>690.000000</td>\n",
       "      <td>690.000000</td>\n",
       "      <td>690.000000</td>\n",
       "    </tr>\n",
       "  </tbody>\n",
       "</table>\n",
       "</div>"
      ],
      "text/plain": [
       "          time_stamp           btag           cate          brand  \\\n",
       "count  585917.000000  585917.000000  585917.000000  585917.000000   \n",
       "mean       11.946334      11.946334      11.946334      11.946334   \n",
       "std        18.038678      18.038678      18.038678      18.038678   \n",
       "min         1.000000       1.000000       1.000000       1.000000   \n",
       "25%         2.000000       2.000000       2.000000       2.000000   \n",
       "50%         6.000000       6.000000       6.000000       6.000000   \n",
       "75%        14.000000      14.000000      14.000000      14.000000   \n",
       "max       690.000000     690.000000     690.000000     690.000000   \n",
       "\n",
       "                time           hour            day  \n",
       "count  585917.000000  585917.000000  585917.000000  \n",
       "mean       11.946334      11.946334      11.946334  \n",
       "std        18.038678      18.038678      18.038678  \n",
       "min         1.000000       1.000000       1.000000  \n",
       "25%         2.000000       2.000000       2.000000  \n",
       "50%         6.000000       6.000000       6.000000  \n",
       "75%        14.000000      14.000000      14.000000  \n",
       "max       690.000000     690.000000     690.000000  "
      ]
     },
     "execution_count": 28,
     "metadata": {},
     "output_type": "execute_result"
    }
   ],
   "source": [
    "log_count.describe()\n",
    "# The average number of sessions per user is 11"
   ]
  },
  {
   "cell_type": "code",
   "execution_count": 29,
   "metadata": {},
   "outputs": [
    {
     "data": {
      "text/html": [
       "<div>\n",
       "<style scoped>\n",
       "    .dataframe tbody tr th:only-of-type {\n",
       "        vertical-align: middle;\n",
       "    }\n",
       "\n",
       "    .dataframe tbody tr th {\n",
       "        vertical-align: top;\n",
       "    }\n",
       "\n",
       "    .dataframe thead th {\n",
       "        text-align: right;\n",
       "    }\n",
       "</style>\n",
       "<table border=\"1\" class=\"dataframe\">\n",
       "  <thead>\n",
       "    <tr style=\"text-align: right;\">\n",
       "      <th></th>\n",
       "      <th>time_stamp</th>\n",
       "      <th>btag</th>\n",
       "      <th>cate</th>\n",
       "      <th>brand</th>\n",
       "      <th>time</th>\n",
       "      <th>hour</th>\n",
       "      <th>day</th>\n",
       "    </tr>\n",
       "    <tr>\n",
       "      <th>user</th>\n",
       "      <th></th>\n",
       "      <th></th>\n",
       "      <th></th>\n",
       "      <th></th>\n",
       "      <th></th>\n",
       "      <th></th>\n",
       "      <th></th>\n",
       "    </tr>\n",
       "  </thead>\n",
       "  <tbody>\n",
       "    <tr>\n",
       "      <th>1</th>\n",
       "      <td>1</td>\n",
       "      <td>1</td>\n",
       "      <td>1</td>\n",
       "      <td>1</td>\n",
       "      <td>1</td>\n",
       "      <td>1</td>\n",
       "      <td>1</td>\n",
       "    </tr>\n",
       "    <tr>\n",
       "      <th>2</th>\n",
       "      <td>1</td>\n",
       "      <td>1</td>\n",
       "      <td>1</td>\n",
       "      <td>1</td>\n",
       "      <td>1</td>\n",
       "      <td>1</td>\n",
       "      <td>1</td>\n",
       "    </tr>\n",
       "    <tr>\n",
       "      <th>12</th>\n",
       "      <td>1</td>\n",
       "      <td>1</td>\n",
       "      <td>1</td>\n",
       "      <td>1</td>\n",
       "      <td>1</td>\n",
       "      <td>1</td>\n",
       "      <td>1</td>\n",
       "    </tr>\n",
       "    <tr>\n",
       "      <th>13</th>\n",
       "      <td>6</td>\n",
       "      <td>6</td>\n",
       "      <td>6</td>\n",
       "      <td>6</td>\n",
       "      <td>6</td>\n",
       "      <td>6</td>\n",
       "      <td>6</td>\n",
       "    </tr>\n",
       "    <tr>\n",
       "      <th>16</th>\n",
       "      <td>3</td>\n",
       "      <td>3</td>\n",
       "      <td>3</td>\n",
       "      <td>3</td>\n",
       "      <td>3</td>\n",
       "      <td>3</td>\n",
       "      <td>3</td>\n",
       "    </tr>\n",
       "  </tbody>\n",
       "</table>\n",
       "</div>"
      ],
      "text/plain": [
       "      time_stamp  btag  cate  brand  time  hour  day\n",
       "user                                                \n",
       "1              1     1     1      1     1     1    1\n",
       "2              1     1     1      1     1     1    1\n",
       "12             1     1     1      1     1     1    1\n",
       "13             6     6     6      6     6     6    6\n",
       "16             3     3     3      3     3     3    3"
      ]
     },
     "execution_count": 29,
     "metadata": {},
     "output_type": "execute_result"
    }
   ],
   "source": [
    "log_count.head()"
   ]
  },
  {
   "cell_type": "markdown",
   "metadata": {},
   "source": [
    "### Explore in user level by category"
   ]
  },
  {
   "cell_type": "code",
   "execution_count": 30,
   "metadata": {},
   "outputs": [],
   "source": [
    "#Check how many unique categories an user visited\n",
    "val = user_bhv.groupby('user').agg({'cate': 'nunique', 'time': 'count'}).values\n",
    "idx = user_bhv.groupby('user')['cate'].nunique().index\n",
    "user_cate = pd.DataFrame(val, index = idx, columns = ['uni_cate_count', 'num_times'])"
   ]
  },
  {
   "cell_type": "code",
   "execution_count": 31,
   "metadata": {},
   "outputs": [],
   "source": [
    "user_cate1 = user_cate.sort_values('uni_cate_count')\n",
    "user_cate1['avg_time_per_cate'] = user_cate1['num_times']/user_cate1['uni_cate_count']\n",
    "user_cate1['avg_time_per_cate'] = user_cate1['avg_time_per_cate'].astype(int)\n",
    "user_cate1['user_count'] = 1"
   ]
  },
  {
   "cell_type": "code",
   "execution_count": 32,
   "metadata": {},
   "outputs": [
    {
     "data": {
      "text/html": [
       "<div>\n",
       "<style scoped>\n",
       "    .dataframe tbody tr th:only-of-type {\n",
       "        vertical-align: middle;\n",
       "    }\n",
       "\n",
       "    .dataframe tbody tr th {\n",
       "        vertical-align: top;\n",
       "    }\n",
       "\n",
       "    .dataframe thead th {\n",
       "        text-align: right;\n",
       "    }\n",
       "</style>\n",
       "<table border=\"1\" class=\"dataframe\">\n",
       "  <thead>\n",
       "    <tr style=\"text-align: right;\">\n",
       "      <th></th>\n",
       "      <th>uni_cate_count</th>\n",
       "      <th>num_times</th>\n",
       "      <th>avg_time_per_cate</th>\n",
       "      <th>user_count</th>\n",
       "    </tr>\n",
       "    <tr>\n",
       "      <th>user</th>\n",
       "      <th></th>\n",
       "      <th></th>\n",
       "      <th></th>\n",
       "      <th></th>\n",
       "    </tr>\n",
       "  </thead>\n",
       "  <tbody>\n",
       "    <tr>\n",
       "      <th>1</th>\n",
       "      <td>1</td>\n",
       "      <td>1</td>\n",
       "      <td>1</td>\n",
       "      <td>1</td>\n",
       "    </tr>\n",
       "    <tr>\n",
       "      <th>327817</th>\n",
       "      <td>1</td>\n",
       "      <td>1</td>\n",
       "      <td>1</td>\n",
       "      <td>1</td>\n",
       "    </tr>\n",
       "    <tr>\n",
       "      <th>760715</th>\n",
       "      <td>1</td>\n",
       "      <td>1</td>\n",
       "      <td>1</td>\n",
       "      <td>1</td>\n",
       "    </tr>\n",
       "    <tr>\n",
       "      <th>327821</th>\n",
       "      <td>1</td>\n",
       "      <td>11</td>\n",
       "      <td>11</td>\n",
       "      <td>1</td>\n",
       "    </tr>\n",
       "    <tr>\n",
       "      <th>760713</th>\n",
       "      <td>1</td>\n",
       "      <td>1</td>\n",
       "      <td>1</td>\n",
       "      <td>1</td>\n",
       "    </tr>\n",
       "  </tbody>\n",
       "</table>\n",
       "</div>"
      ],
      "text/plain": [
       "        uni_cate_count  num_times  avg_time_per_cate  user_count\n",
       "user                                                            \n",
       "1                    1          1                  1           1\n",
       "327817               1          1                  1           1\n",
       "760715               1          1                  1           1\n",
       "327821               1         11                 11           1\n",
       "760713               1          1                  1           1"
      ]
     },
     "execution_count": 32,
     "metadata": {},
     "output_type": "execute_result"
    }
   ],
   "source": [
    "user_cate1.head()"
   ]
  },
  {
   "cell_type": "code",
   "execution_count": 35,
   "metadata": {},
   "outputs": [
    {
     "data": {
      "text/plain": [
       "uni_cate_count\n",
       "1    202535\n",
       "2    121085\n",
       "3     79747\n",
       "4     54080\n",
       "5     37146\n",
       "dtype: int64"
      ]
     },
     "execution_count": 35,
     "metadata": {},
     "output_type": "execute_result"
    }
   ],
   "source": [
    "# the distribution of the number of unique categories an user visited\n",
    "user_cate2 = user_cate1.groupby('uni_cate_count').size()\n",
    "user_cate2.head()"
   ]
  },
  {
   "cell_type": "code",
   "execution_count": 444,
   "metadata": {},
   "outputs": [
    {
     "data": {
      "text/html": [
       "<div>\n",
       "<style scoped>\n",
       "    .dataframe tbody tr th:only-of-type {\n",
       "        vertical-align: middle;\n",
       "    }\n",
       "\n",
       "    .dataframe tbody tr th {\n",
       "        vertical-align: top;\n",
       "    }\n",
       "\n",
       "    .dataframe thead th {\n",
       "        text-align: right;\n",
       "    }\n",
       "</style>\n",
       "<table border=\"1\" class=\"dataframe\">\n",
       "  <thead>\n",
       "    <tr style=\"text-align: right;\">\n",
       "      <th></th>\n",
       "      <th>num_times</th>\n",
       "      <th>avg_time_per_brand</th>\n",
       "      <th>user_count</th>\n",
       "      <th>cum_perc</th>\n",
       "    </tr>\n",
       "    <tr>\n",
       "      <th>uni_brand_count</th>\n",
       "      <th></th>\n",
       "      <th></th>\n",
       "      <th></th>\n",
       "      <th></th>\n",
       "    </tr>\n",
       "  </thead>\n",
       "  <tbody>\n",
       "    <tr>\n",
       "      <th>1</th>\n",
       "      <td>176806</td>\n",
       "      <td>176806</td>\n",
       "      <td>176806</td>\n",
       "      <td>30.175946</td>\n",
       "    </tr>\n",
       "    <tr>\n",
       "      <th>2</th>\n",
       "      <td>107037</td>\n",
       "      <td>107037</td>\n",
       "      <td>107037</td>\n",
       "      <td>48.444234</td>\n",
       "    </tr>\n",
       "    <tr>\n",
       "      <th>3</th>\n",
       "      <td>73440</td>\n",
       "      <td>73440</td>\n",
       "      <td>73440</td>\n",
       "      <td>60.978432</td>\n",
       "    </tr>\n",
       "    <tr>\n",
       "      <th>4</th>\n",
       "      <td>52502</td>\n",
       "      <td>52502</td>\n",
       "      <td>52502</td>\n",
       "      <td>69.939087</td>\n",
       "    </tr>\n",
       "    <tr>\n",
       "      <th>5</th>\n",
       "      <td>39189</td>\n",
       "      <td>39189</td>\n",
       "      <td>39189</td>\n",
       "      <td>76.627577</td>\n",
       "    </tr>\n",
       "    <tr>\n",
       "      <th>6</th>\n",
       "      <td>29276</td>\n",
       "      <td>29276</td>\n",
       "      <td>29276</td>\n",
       "      <td>81.624189</td>\n",
       "    </tr>\n",
       "    <tr>\n",
       "      <th>7</th>\n",
       "      <td>22304</td>\n",
       "      <td>22304</td>\n",
       "      <td>22304</td>\n",
       "      <td>85.430872</td>\n",
       "    </tr>\n",
       "    <tr>\n",
       "      <th>8</th>\n",
       "      <td>17276</td>\n",
       "      <td>17276</td>\n",
       "      <td>17276</td>\n",
       "      <td>88.379412</td>\n",
       "    </tr>\n",
       "    <tr>\n",
       "      <th>9</th>\n",
       "      <td>13385</td>\n",
       "      <td>13385</td>\n",
       "      <td>13385</td>\n",
       "      <td>90.663865</td>\n",
       "    </tr>\n",
       "    <tr>\n",
       "      <th>10</th>\n",
       "      <td>10522</td>\n",
       "      <td>10522</td>\n",
       "      <td>10522</td>\n",
       "      <td>92.459683</td>\n",
       "    </tr>\n",
       "  </tbody>\n",
       "</table>\n",
       "</div>"
      ],
      "text/plain": [
       "                 num_times  avg_time_per_brand  user_count   cum_perc\n",
       "uni_brand_count                                                      \n",
       "1                   176806              176806      176806  30.175946\n",
       "2                   107037              107037      107037  48.444234\n",
       "3                    73440               73440       73440  60.978432\n",
       "4                    52502               52502       52502  69.939087\n",
       "5                    39189               39189       39189  76.627577\n",
       "6                    29276               29276       29276  81.624189\n",
       "7                    22304               22304       22304  85.430872\n",
       "8                    17276               17276       17276  88.379412\n",
       "9                    13385               13385       13385  90.663865\n",
       "10                   10522               10522       10522  92.459683"
      ]
     },
     "execution_count": 444,
     "metadata": {},
     "output_type": "execute_result"
    }
   ],
   "source": [
    "#calculate the cummulative distribution\n",
    "user_cate2['cum_perc'] = user_cate2['user_count'].cumsum()*100/user_cate2['user_count'].sum()\n",
    "user_cate2.head(10)"
   ]
  },
  {
   "cell_type": "code",
   "execution_count": 74,
   "metadata": {},
   "outputs": [
    {
     "data": {
      "image/png": "[encoded data removed]",
      "text/plain": [
       "<Figure size 432x288 with 1 Axes>"
      ]
     },
     "metadata": {
      "needs_background": "light"
     },
     "output_type": "display_data"
    }
   ],
   "source": [
    "user_cate1['uni_cate_count'].hist(range=(0,10))\n",
    "plt.title('Distribution of number of categories an user visited')\n",
    "plt.xlabel('number of categories an user visited')\n",
    "plt.xlabel('number of users')\n",
    "plt.savefig('Distribution_of_number_of_categories_an_user_visited.png')"
   ]
  },
  {
   "cell_type": "code",
   "execution_count": 445,
   "metadata": {},
   "outputs": [
    {
     "data": {
      "image/png": "[encoded data removed]",
      "text/plain": [
       "<Figure size 432x288 with 1 Axes>"
      ]
     },
     "metadata": {
      "needs_background": "light"
     },
     "output_type": "display_data"
    }
   ],
   "source": [
    "# Plot the distribution\n",
    "plt.plot(user_cate2.cum_perc)\n",
    "plt.xlim(1, 10)\n",
    "plt.xlabel('Number of Categories An User Visited')\n",
    "plt.ylabel('Cummulative Percentage')\n",
    "plt.title('Distribution of the Number of Categories An User Visited')\n",
    "plt.savefig('Number_of_categories_an_user_interacts_with.png');"
   ]
  },
  {
   "cell_type": "code",
   "execution_count": 435,
   "metadata": {},
   "outputs": [
    {
     "name": "stdout",
     "output_type": "stream",
     "text": [
      "34.57 percentage of users visited only 1 category\n",
      "84.41 percentage of users visited 5 or less categories\n",
      "96.83 percentage of users visited 10 or less categories\n"
     ]
    }
   ],
   "source": [
    "print('%.2f percentage of users visited only 1 category'%user_cate2['cum_perc'].iloc[0])\n",
    "print('%.2f percentage of users visited 5 or less categories'%user_cate2['cum_perc'].iloc[4])\n",
    "print('%.2f percentage of users visited 10 or less categories'%user_cate2['cum_perc'].iloc[9])"
   ]
  },
  {
   "cell_type": "code",
   "execution_count": 432,
   "metadata": {
    "scrolled": true
   },
   "outputs": [
    {
     "data": {
      "image/png": "[encoded data removed]",
      "text/plain": [
       "<Figure size 432x288 with 1 Axes>"
      ]
     },
     "metadata": {
      "needs_background": "light"
     },
     "output_type": "display_data"
    }
   ],
   "source": [
    "# check the average number of times an user visits each category\n",
    "user_cate3 = user_cate1.groupby('avg_time_per_cate').count()\n",
    "user_cate3.head()\n",
    "user_cate3['cum_perc'] = user_cate3['user_count'].cumsum()*100/user_cate3['user_count'].sum()\n",
    "user_cate3.head(10)\n",
    "\n",
    "#plot the distribution of the average number of times\n",
    "plt.plot(user_cate3.cum_perc)\n",
    "plt.xlim(1, 10)\n",
    "plt.xlabel('Number of Times An User Visits A Category')\n",
    "plt.ylabel('Cummulative Percentage')\n",
    "plt.title('Distribution of the Number of Times An User Visits A Category ')\n",
    "plt.savefig('Number_of_times_an_user_visit_a_category.png');"
   ]
  },
  {
   "cell_type": "markdown",
   "metadata": {},
   "source": [
    "### Explore in user level by brand"
   ]
  },
  {
   "cell_type": "code",
   "execution_count": 434,
   "metadata": {},
   "outputs": [
    {
     "data": {
      "text/html": [
       "<div>\n",
       "<style scoped>\n",
       "    .dataframe tbody tr th:only-of-type {\n",
       "        vertical-align: middle;\n",
       "    }\n",
       "\n",
       "    .dataframe tbody tr th {\n",
       "        vertical-align: top;\n",
       "    }\n",
       "\n",
       "    .dataframe thead th {\n",
       "        text-align: right;\n",
       "    }\n",
       "</style>\n",
       "<table border=\"1\" class=\"dataframe\">\n",
       "  <thead>\n",
       "    <tr style=\"text-align: right;\">\n",
       "      <th></th>\n",
       "      <th>uni_brand_count</th>\n",
       "      <th>num_times</th>\n",
       "      <th>avg_time_per_brand</th>\n",
       "      <th>user_count</th>\n",
       "    </tr>\n",
       "    <tr>\n",
       "      <th>user</th>\n",
       "      <th></th>\n",
       "      <th></th>\n",
       "      <th></th>\n",
       "      <th></th>\n",
       "    </tr>\n",
       "  </thead>\n",
       "  <tbody>\n",
       "    <tr>\n",
       "      <th>1</th>\n",
       "      <td>1</td>\n",
       "      <td>1</td>\n",
       "      <td>1</td>\n",
       "      <td>1</td>\n",
       "    </tr>\n",
       "    <tr>\n",
       "      <th>730840</th>\n",
       "      <td>1</td>\n",
       "      <td>1</td>\n",
       "      <td>1</td>\n",
       "      <td>1</td>\n",
       "    </tr>\n",
       "    <tr>\n",
       "      <th>730833</th>\n",
       "      <td>1</td>\n",
       "      <td>24</td>\n",
       "      <td>24</td>\n",
       "      <td>1</td>\n",
       "    </tr>\n",
       "    <tr>\n",
       "      <th>291084</th>\n",
       "      <td>1</td>\n",
       "      <td>1</td>\n",
       "      <td>1</td>\n",
       "      <td>1</td>\n",
       "    </tr>\n",
       "    <tr>\n",
       "      <th>730830</th>\n",
       "      <td>1</td>\n",
       "      <td>1</td>\n",
       "      <td>1</td>\n",
       "      <td>1</td>\n",
       "    </tr>\n",
       "  </tbody>\n",
       "</table>\n",
       "</div>"
      ],
      "text/plain": [
       "        uni_brand_count  num_times  avg_time_per_brand  user_count\n",
       "user                                                              \n",
       "1                     1          1                   1           1\n",
       "730840                1          1                   1           1\n",
       "730833                1         24                  24           1\n",
       "291084                1          1                   1           1\n",
       "730830                1          1                   1           1"
      ]
     },
     "execution_count": 434,
     "metadata": {},
     "output_type": "execute_result"
    }
   ],
   "source": [
    "#Check how many unique brand an user visited\n",
    "val = user_bhv.groupby('user').agg({'brand': 'nunique', 'time': 'count'}).values\n",
    "idx = user_bhv.groupby('user')['cate'].nunique().index\n",
    "user_brand = pd.DataFrame(val, index = idx, columns = ['uni_brand_count', 'num_times'])\n",
    "\n",
    "user_brand1 = user_brand.sort_values('uni_brand_count')\n",
    "user_brand1['avg_time_per_brand'] = user_brand1['num_times']/user_brand1['uni_brand_count']\n",
    "user_brand1['avg_time_per_brand'] = user_brand1['avg_time_per_brand'].astype(int)\n",
    "user_brand1['user_count'] = 1\n",
    "\n",
    "user_brand1.head()"
   ]
  },
  {
   "cell_type": "code",
   "execution_count": 438,
   "metadata": {},
   "outputs": [
    {
     "data": {
      "text/html": [
       "<div>\n",
       "<style scoped>\n",
       "    .dataframe tbody tr th:only-of-type {\n",
       "        vertical-align: middle;\n",
       "    }\n",
       "\n",
       "    .dataframe tbody tr th {\n",
       "        vertical-align: top;\n",
       "    }\n",
       "\n",
       "    .dataframe thead th {\n",
       "        text-align: right;\n",
       "    }\n",
       "</style>\n",
       "<table border=\"1\" class=\"dataframe\">\n",
       "  <thead>\n",
       "    <tr style=\"text-align: right;\">\n",
       "      <th></th>\n",
       "      <th>num_times</th>\n",
       "      <th>avg_time_per_brand</th>\n",
       "      <th>user_count</th>\n",
       "      <th>cum_perc</th>\n",
       "      <th>perc</th>\n",
       "    </tr>\n",
       "    <tr>\n",
       "      <th>uni_brand_count</th>\n",
       "      <th></th>\n",
       "      <th></th>\n",
       "      <th></th>\n",
       "      <th></th>\n",
       "      <th></th>\n",
       "    </tr>\n",
       "  </thead>\n",
       "  <tbody>\n",
       "    <tr>\n",
       "      <th>1</th>\n",
       "      <td>176806</td>\n",
       "      <td>176806</td>\n",
       "      <td>176806</td>\n",
       "      <td>30.175946</td>\n",
       "      <td>30.175946</td>\n",
       "    </tr>\n",
       "    <tr>\n",
       "      <th>2</th>\n",
       "      <td>107037</td>\n",
       "      <td>107037</td>\n",
       "      <td>107037</td>\n",
       "      <td>48.444234</td>\n",
       "      <td>18.268287</td>\n",
       "    </tr>\n",
       "    <tr>\n",
       "      <th>3</th>\n",
       "      <td>73440</td>\n",
       "      <td>73440</td>\n",
       "      <td>73440</td>\n",
       "      <td>60.978432</td>\n",
       "      <td>12.534199</td>\n",
       "    </tr>\n",
       "    <tr>\n",
       "      <th>4</th>\n",
       "      <td>52502</td>\n",
       "      <td>52502</td>\n",
       "      <td>52502</td>\n",
       "      <td>69.939087</td>\n",
       "      <td>8.960655</td>\n",
       "    </tr>\n",
       "    <tr>\n",
       "      <th>5</th>\n",
       "      <td>39189</td>\n",
       "      <td>39189</td>\n",
       "      <td>39189</td>\n",
       "      <td>76.627577</td>\n",
       "      <td>6.688490</td>\n",
       "    </tr>\n",
       "    <tr>\n",
       "      <th>6</th>\n",
       "      <td>29276</td>\n",
       "      <td>29276</td>\n",
       "      <td>29276</td>\n",
       "      <td>81.624189</td>\n",
       "      <td>4.996612</td>\n",
       "    </tr>\n",
       "    <tr>\n",
       "      <th>7</th>\n",
       "      <td>22304</td>\n",
       "      <td>22304</td>\n",
       "      <td>22304</td>\n",
       "      <td>85.430872</td>\n",
       "      <td>3.806683</td>\n",
       "    </tr>\n",
       "    <tr>\n",
       "      <th>8</th>\n",
       "      <td>17276</td>\n",
       "      <td>17276</td>\n",
       "      <td>17276</td>\n",
       "      <td>88.379412</td>\n",
       "      <td>2.948540</td>\n",
       "    </tr>\n",
       "    <tr>\n",
       "      <th>9</th>\n",
       "      <td>13385</td>\n",
       "      <td>13385</td>\n",
       "      <td>13385</td>\n",
       "      <td>90.663865</td>\n",
       "      <td>2.284453</td>\n",
       "    </tr>\n",
       "    <tr>\n",
       "      <th>10</th>\n",
       "      <td>10522</td>\n",
       "      <td>10522</td>\n",
       "      <td>10522</td>\n",
       "      <td>92.459683</td>\n",
       "      <td>1.795817</td>\n",
       "    </tr>\n",
       "  </tbody>\n",
       "</table>\n",
       "</div>"
      ],
      "text/plain": [
       "                 num_times  avg_time_per_brand  user_count   cum_perc  \\\n",
       "uni_brand_count                                                         \n",
       "1                   176806              176806      176806  30.175946   \n",
       "2                   107037              107037      107037  48.444234   \n",
       "3                    73440               73440       73440  60.978432   \n",
       "4                    52502               52502       52502  69.939087   \n",
       "5                    39189               39189       39189  76.627577   \n",
       "6                    29276               29276       29276  81.624189   \n",
       "7                    22304               22304       22304  85.430872   \n",
       "8                    17276               17276       17276  88.379412   \n",
       "9                    13385               13385       13385  90.663865   \n",
       "10                   10522               10522       10522  92.459683   \n",
       "\n",
       "                      perc  \n",
       "uni_brand_count             \n",
       "1                30.175946  \n",
       "2                18.268287  \n",
       "3                12.534199  \n",
       "4                 8.960655  \n",
       "5                 6.688490  \n",
       "6                 4.996612  \n",
       "7                 3.806683  \n",
       "8                 2.948540  \n",
       "9                 2.284453  \n",
       "10                1.795817  "
      ]
     },
     "execution_count": 438,
     "metadata": {},
     "output_type": "execute_result"
    }
   ],
   "source": [
    "# the distribution of the number of brands an user visited\n",
    "user_brand2 = user_brand1.groupby('uni_brand_count').count()\n",
    "\n",
    "user_brand2['cum_perc'] = user_brand2['user_count'].cumsum()*100/user_brand2['user_count'].sum()\n",
    "user_brand2['perc'] = user_brand2['user_count']*100/user_brand2['user_count'].sum()\n",
    "user_brand2.head(10)"
   ]
  },
  {
   "cell_type": "code",
   "execution_count": 446,
   "metadata": {},
   "outputs": [
    {
     "data": {
      "image/png": "[encoded data removed]",
      "text/plain": [
       "<Figure size 432x288 with 1 Axes>"
      ]
     },
     "metadata": {
      "needs_background": "light"
     },
     "output_type": "display_data"
    }
   ],
   "source": [
    "# Plot the distribution\n",
    "plt.plot(user_brand2.cum_perc, label = 'cum_perc')\n",
    "plt.plot(user_brand2.perc, label = 'perc')\n",
    "plt.xlim(1, 10)\n",
    "plt.legend()\n",
    "plt.xlabel('Number of Brands An User Visited')\n",
    "plt.ylabel('Percentage')\n",
    "plt.title('Distribution of the Number of Brands An User Visited')\n",
    "plt.savefig('Number_of_brands_an_user_visit.png');"
   ]
  },
  {
   "cell_type": "markdown",
   "metadata": {},
   "source": [
    "### Explore in brand"
   ]
  },
  {
   "cell_type": "code",
   "execution_count": 45,
   "metadata": {},
   "outputs": [
    {
     "data": {
      "text/html": [
       "<div>\n",
       "<style scoped>\n",
       "    .dataframe tbody tr th:only-of-type {\n",
       "        vertical-align: middle;\n",
       "    }\n",
       "\n",
       "    .dataframe tbody tr th {\n",
       "        vertical-align: top;\n",
       "    }\n",
       "\n",
       "    .dataframe thead th {\n",
       "        text-align: right;\n",
       "    }\n",
       "</style>\n",
       "<table border=\"1\" class=\"dataframe\">\n",
       "  <thead>\n",
       "    <tr style=\"text-align: right;\">\n",
       "      <th>btag</th>\n",
       "      <th>buy</th>\n",
       "      <th>cart</th>\n",
       "      <th>fav</th>\n",
       "      <th>pv</th>\n",
       "    </tr>\n",
       "    <tr>\n",
       "      <th>brand</th>\n",
       "      <th></th>\n",
       "      <th></th>\n",
       "      <th></th>\n",
       "      <th></th>\n",
       "    </tr>\n",
       "  </thead>\n",
       "  <tbody>\n",
       "    <tr>\n",
       "      <th>2</th>\n",
       "      <td>NaN</td>\n",
       "      <td>9.0</td>\n",
       "      <td>1.0</td>\n",
       "      <td>210.0</td>\n",
       "    </tr>\n",
       "    <tr>\n",
       "      <th>3</th>\n",
       "      <td>NaN</td>\n",
       "      <td>NaN</td>\n",
       "      <td>3.0</td>\n",
       "      <td>99.0</td>\n",
       "    </tr>\n",
       "    <tr>\n",
       "      <th>7</th>\n",
       "      <td>2.0</td>\n",
       "      <td>9.0</td>\n",
       "      <td>6.0</td>\n",
       "      <td>333.0</td>\n",
       "    </tr>\n",
       "    <tr>\n",
       "      <th>8</th>\n",
       "      <td>2.0</td>\n",
       "      <td>5.0</td>\n",
       "      <td>NaN</td>\n",
       "      <td>61.0</td>\n",
       "    </tr>\n",
       "    <tr>\n",
       "      <th>9</th>\n",
       "      <td>NaN</td>\n",
       "      <td>4.0</td>\n",
       "      <td>1.0</td>\n",
       "      <td>34.0</td>\n",
       "    </tr>\n",
       "  </tbody>\n",
       "</table>\n",
       "</div>"
      ],
      "text/plain": [
       "btag   buy  cart  fav     pv\n",
       "brand                       \n",
       "2      NaN   9.0  1.0  210.0\n",
       "3      NaN   NaN  3.0   99.0\n",
       "7      2.0   9.0  6.0  333.0\n",
       "8      2.0   5.0  NaN   61.0\n",
       "9      NaN   4.0  1.0   34.0"
      ]
     },
     "execution_count": 45,
     "metadata": {},
     "output_type": "execute_result"
    }
   ],
   "source": [
    "#check the conversion rate for each brand\n",
    "import numpy as np\n",
    "\n",
    "brand_convert = pd.pivot_table(user_bhv, values='time', index=['brand'], columns=['btag'], aggfunc='count')\n",
    "brand_convert.head()"
   ]
  },
  {
   "cell_type": "code",
   "execution_count": 48,
   "metadata": {},
   "outputs": [],
   "source": [
    "brand_convert['cart_convert'] = brand_convert['cart']/brand_convert['pv']\n",
    "brand_convert['buy_convert'] = brand_convert['buy']/brand_convert['pv']"
   ]
  },
  {
   "cell_type": "code",
   "execution_count": 71,
   "metadata": {},
   "outputs": [
    {
     "data": {
      "image/png": "[encoded data removed]",
      "text/plain": [
       "<Figure size 1080x432 with 2 Axes>"
      ]
     },
     "metadata": {
      "needs_background": "light"
     },
     "output_type": "display_data"
    }
   ],
   "source": [
    "\n",
    "fig, axs = plt.subplots(1,2, figsize=(15,6))\n",
    "brand_convert.cart_convert.hist(range=(0, 1), bins = 10, density=True, ax = axs[0])\n",
    "brand_convert.cart_convert.hist(range=(0, 1), bins = 10, density=True, cumulative=True, ax=axs[1])\n",
    "axs[0].set_title(\"Distribution of Brand Conversion From 'Browse' to 'Cart'\")\n",
    "axs[1].set_title(\"Cumulative Distribution of Brand Conversion From 'Browse' to 'Cart'\")\n",
    "axs[0].set_xlabel(\"conversion rate from 'browse' to 'cart'\")\n",
    "axs[0].set_ylabel('Density')\n",
    "axs[1].set_xlabel(\"conversion rate from 'browse' to 'cart'\")\n",
    "plt.savefig('Brand_Conversion_Browse_Cart.png')"
   ]
  },
  {
   "cell_type": "code",
   "execution_count": 90,
   "metadata": {},
   "outputs": [
    {
     "data": {
      "image/png": "[encoded data removed]",
      "text/plain": [
       "<Figure size 1080x432 with 2 Axes>"
      ]
     },
     "metadata": {
      "needs_background": "light"
     },
     "output_type": "display_data"
    }
   ],
   "source": [
    "fig, axs = plt.subplots(1,2, figsize=(15,6))\n",
    "brand_convert.buy_convert.hist(range=(0, 1), bins = 50, density=True, ax = axs[0])\n",
    "brand_convert.buy_convert.hist(range=(0, 1), bins = 50, density=True, cumulative=True, ax=axs[1])\n",
    "axs[0].set_title(\"Distribution of Brand Conversion From 'Browse' to 'Buy'\")\n",
    "axs[1].set_title(\"Cumulative Distribution of Brand Conversion From 'Browse' to 'Buy'\")\n",
    "axs[0].set_xlabel(\"conversion rate from 'browse' to 'buy'\")\n",
    "axs[0].set_ylabel('Density')\n",
    "axs[0].set_ylim(0,20)\n",
    "axs[1].set_xlabel(\"conversion rate from 'browse' to 'buy'\")\n",
    "plt.savefig('Brand_Conversion_Browse_Buy.png')"
   ]
  },
  {
   "cell_type": "markdown",
   "metadata": {},
   "source": [
    "### Explore in category level"
   ]
  },
  {
   "cell_type": "code",
   "execution_count": 92,
   "metadata": {},
   "outputs": [
    {
     "data": {
      "image/png": "[encoded data removed]",
      "text/plain": [
       "<Figure size 1080x432 with 2 Axes>"
      ]
     },
     "metadata": {
      "needs_background": "light"
     },
     "output_type": "display_data"
    }
   ],
   "source": [
    "#check the conversion rate for each category\n",
    "\n",
    "cate_convert = pd.pivot_table(user_bhv, values='time', index=['cate'], columns=['btag'], aggfunc='count')\n",
    "cate_convert.head()\n",
    "cate_convert['cart_convert'] = cate_convert['cart']/cate_convert['pv']\n",
    "cate_convert['buy_convert'] = cate_convert['buy']/cate_convert['pv']\n",
    "\n"
   ]
  },
  {
   "cell_type": "code",
   "execution_count": 102,
   "metadata": {},
   "outputs": [
    {
     "data": {
      "image/png": "[encoded data removed]",
      "text/plain": [
       "<Figure size 1080x432 with 2 Axes>"
      ]
     },
     "metadata": {
      "needs_background": "light"
     },
     "output_type": "display_data"
    }
   ],
   "source": [
    "fig, axs = plt.subplots(1,2, figsize=(15,6))\n",
    "cate_convert.buy_convert.hist(range=(0, 1), bins = 50, density=True, ax = axs[0], alpha = 0.3, label = 'Category')\n",
    "cate_convert.buy_convert.hist(range=(0, 1), bins = 50, density=True, cumulative=True, ax=axs[1], alpha = 0.3, label = 'Category')\n",
    "\n",
    "brand_convert.buy_convert.hist(range=(0, 1), bins = 50, density=True, ax = axs[0], alpha = 0.3, label = 'Brand')\n",
    "brand_convert.buy_convert.hist(range=(0, 1), bins = 50, density=True, cumulative=True, ax=axs[1], alpha = 0.3, label = 'Brand')\n",
    "\n",
    "axs[0].set_title(\"Distribution of Conversion From 'Browse' to 'Buy'\")\n",
    "axs[1].set_title(\"Cumulative Distribution of Conversion From 'Browse' to 'Buy'\")\n",
    "axs[0].set_xlabel(\"conversion rate from 'browse' to 'buy'\")\n",
    "axs[0].set_ylabel('Density')\n",
    "axs[0].set_ylim(0,25)\n",
    "axs[1].set_xlabel(\"conversion rate from 'browse' to 'buy'\")\n",
    "\n",
    "plt.legend(loc = 'lower right')\n",
    "plt.savefig('Conversion_Browse_Buy.png')"
   ]
  },
  {
   "cell_type": "markdown",
   "metadata": {},
   "source": [
    "### Explore user's behavior by btag"
   ]
  },
  {
   "cell_type": "code",
   "execution_count": 455,
   "metadata": {},
   "outputs": [],
   "source": [
    "#make a summary for each type of behavior\n",
    "user_btag = user_bhv.copy()\n",
    "user_btag['time_max'] = user_btag['time']\n",
    "user_btag['time_min'] = user_btag['time']\n",
    "user_btag1 = user_btag.groupby(['user', 'btag']).agg({'time': 'count', 'time_min': 'min', 'time_max': 'max', 'cate': 'nunique', \n",
    "                                                      'brand':'nunique', 'hour': 'nunique', 'day':'nunique'})"
   ]
  },
  {
   "cell_type": "code",
   "execution_count": 456,
   "metadata": {},
   "outputs": [
    {
     "data": {
      "text/html": [
       "<div>\n",
       "<style scoped>\n",
       "    .dataframe tbody tr th:only-of-type {\n",
       "        vertical-align: middle;\n",
       "    }\n",
       "\n",
       "    .dataframe tbody tr th {\n",
       "        vertical-align: top;\n",
       "    }\n",
       "\n",
       "    .dataframe thead th {\n",
       "        text-align: right;\n",
       "    }\n",
       "</style>\n",
       "<table border=\"1\" class=\"dataframe\">\n",
       "  <thead>\n",
       "    <tr style=\"text-align: right;\">\n",
       "      <th></th>\n",
       "      <th></th>\n",
       "      <th>time</th>\n",
       "      <th>time_min</th>\n",
       "      <th>time_max</th>\n",
       "      <th>cate</th>\n",
       "      <th>brand</th>\n",
       "      <th>hour</th>\n",
       "      <th>day</th>\n",
       "    </tr>\n",
       "    <tr>\n",
       "      <th>user</th>\n",
       "      <th>btag</th>\n",
       "      <th></th>\n",
       "      <th></th>\n",
       "      <th></th>\n",
       "      <th></th>\n",
       "      <th></th>\n",
       "      <th></th>\n",
       "      <th></th>\n",
       "    </tr>\n",
       "  </thead>\n",
       "  <tbody>\n",
       "    <tr>\n",
       "      <th>1141704</th>\n",
       "      <th>pv</th>\n",
       "      <td>6</td>\n",
       "      <td>2017-05-02 16:13:32</td>\n",
       "      <td>2017-05-02 16:23:50</td>\n",
       "      <td>3</td>\n",
       "      <td>3</td>\n",
       "      <td>1</td>\n",
       "      <td>1</td>\n",
       "    </tr>\n",
       "    <tr>\n",
       "      <th>1141707</th>\n",
       "      <th>pv</th>\n",
       "      <td>36</td>\n",
       "      <td>2017-05-03 02:03:50</td>\n",
       "      <td>2017-05-03 11:43:22</td>\n",
       "      <td>3</td>\n",
       "      <td>10</td>\n",
       "      <td>2</td>\n",
       "      <td>1</td>\n",
       "    </tr>\n",
       "    <tr>\n",
       "      <th rowspan=\"2\" valign=\"top\">1141708</th>\n",
       "      <th>cart</th>\n",
       "      <td>4</td>\n",
       "      <td>2017-05-03 02:22:10</td>\n",
       "      <td>2017-05-03 05:20:49</td>\n",
       "      <td>4</td>\n",
       "      <td>3</td>\n",
       "      <td>3</td>\n",
       "      <td>1</td>\n",
       "    </tr>\n",
       "    <tr>\n",
       "      <th>pv</th>\n",
       "      <td>59</td>\n",
       "      <td>2017-05-03 02:19:32</td>\n",
       "      <td>2017-05-03 05:21:06</td>\n",
       "      <td>6</td>\n",
       "      <td>8</td>\n",
       "      <td>4</td>\n",
       "      <td>1</td>\n",
       "    </tr>\n",
       "    <tr>\n",
       "      <th rowspan=\"4\" valign=\"top\">1141710</th>\n",
       "      <th>buy</th>\n",
       "      <td>1</td>\n",
       "      <td>2017-05-03 13:42:57</td>\n",
       "      <td>2017-05-03 13:42:57</td>\n",
       "      <td>1</td>\n",
       "      <td>1</td>\n",
       "      <td>1</td>\n",
       "      <td>1</td>\n",
       "    </tr>\n",
       "    <tr>\n",
       "      <th>cart</th>\n",
       "      <td>3</td>\n",
       "      <td>2017-05-03 13:26:26</td>\n",
       "      <td>2017-05-03 13:40:50</td>\n",
       "      <td>1</td>\n",
       "      <td>2</td>\n",
       "      <td>1</td>\n",
       "      <td>1</td>\n",
       "    </tr>\n",
       "    <tr>\n",
       "      <th>fav</th>\n",
       "      <td>3</td>\n",
       "      <td>2017-05-03 13:38:15</td>\n",
       "      <td>2017-05-03 14:22:26</td>\n",
       "      <td>2</td>\n",
       "      <td>2</td>\n",
       "      <td>2</td>\n",
       "      <td>1</td>\n",
       "    </tr>\n",
       "    <tr>\n",
       "      <th>pv</th>\n",
       "      <td>31</td>\n",
       "      <td>2017-05-03 13:26:02</td>\n",
       "      <td>2017-05-05 16:35:37</td>\n",
       "      <td>7</td>\n",
       "      <td>11</td>\n",
       "      <td>3</td>\n",
       "      <td>2</td>\n",
       "    </tr>\n",
       "    <tr>\n",
       "      <th>1141713</th>\n",
       "      <th>pv</th>\n",
       "      <td>11</td>\n",
       "      <td>2017-05-02 23:18:18</td>\n",
       "      <td>2017-05-03 15:49:34</td>\n",
       "      <td>5</td>\n",
       "      <td>4</td>\n",
       "      <td>3</td>\n",
       "      <td>2</td>\n",
       "    </tr>\n",
       "    <tr>\n",
       "      <th>1141714</th>\n",
       "      <th>pv</th>\n",
       "      <td>15</td>\n",
       "      <td>2017-05-02 22:56:37</td>\n",
       "      <td>2017-05-03 06:16:26</td>\n",
       "      <td>8</td>\n",
       "      <td>11</td>\n",
       "      <td>5</td>\n",
       "      <td>2</td>\n",
       "    </tr>\n",
       "    <tr>\n",
       "      <th rowspan=\"2\" valign=\"top\">1141715</th>\n",
       "      <th>fav</th>\n",
       "      <td>1</td>\n",
       "      <td>2017-05-02 16:39:51</td>\n",
       "      <td>2017-05-02 16:39:51</td>\n",
       "      <td>1</td>\n",
       "      <td>1</td>\n",
       "      <td>1</td>\n",
       "      <td>1</td>\n",
       "    </tr>\n",
       "    <tr>\n",
       "      <th>pv</th>\n",
       "      <td>5</td>\n",
       "      <td>2017-05-02 16:39:51</td>\n",
       "      <td>2017-05-06 15:41:47</td>\n",
       "      <td>2</td>\n",
       "      <td>2</td>\n",
       "      <td>3</td>\n",
       "      <td>3</td>\n",
       "    </tr>\n",
       "    <tr>\n",
       "      <th rowspan=\"2\" valign=\"top\">1141716</th>\n",
       "      <th>fav</th>\n",
       "      <td>1</td>\n",
       "      <td>2017-05-03 08:55:30</td>\n",
       "      <td>2017-05-03 08:55:30</td>\n",
       "      <td>1</td>\n",
       "      <td>1</td>\n",
       "      <td>1</td>\n",
       "      <td>1</td>\n",
       "    </tr>\n",
       "    <tr>\n",
       "      <th>pv</th>\n",
       "      <td>23</td>\n",
       "      <td>2017-05-03 08:36:10</td>\n",
       "      <td>2017-05-03 09:15:32</td>\n",
       "      <td>3</td>\n",
       "      <td>5</td>\n",
       "      <td>2</td>\n",
       "      <td>1</td>\n",
       "    </tr>\n",
       "    <tr>\n",
       "      <th>1141718</th>\n",
       "      <th>pv</th>\n",
       "      <td>2</td>\n",
       "      <td>2017-05-03 12:29:40</td>\n",
       "      <td>2017-05-03 12:52:11</td>\n",
       "      <td>1</td>\n",
       "      <td>1</td>\n",
       "      <td>1</td>\n",
       "      <td>1</td>\n",
       "    </tr>\n",
       "    <tr>\n",
       "      <th>1141721</th>\n",
       "      <th>pv</th>\n",
       "      <td>1</td>\n",
       "      <td>2017-05-02 16:04:03</td>\n",
       "      <td>2017-05-02 16:04:03</td>\n",
       "      <td>1</td>\n",
       "      <td>1</td>\n",
       "      <td>1</td>\n",
       "      <td>1</td>\n",
       "    </tr>\n",
       "    <tr>\n",
       "      <th>1141722</th>\n",
       "      <th>pv</th>\n",
       "      <td>5</td>\n",
       "      <td>2017-05-03 01:36:41</td>\n",
       "      <td>2017-05-03 01:42:27</td>\n",
       "      <td>3</td>\n",
       "      <td>4</td>\n",
       "      <td>1</td>\n",
       "      <td>1</td>\n",
       "    </tr>\n",
       "    <tr>\n",
       "      <th>1141723</th>\n",
       "      <th>pv</th>\n",
       "      <td>17</td>\n",
       "      <td>2017-05-03 12:13:33</td>\n",
       "      <td>2017-05-03 15:05:19</td>\n",
       "      <td>5</td>\n",
       "      <td>8</td>\n",
       "      <td>3</td>\n",
       "      <td>1</td>\n",
       "    </tr>\n",
       "    <tr>\n",
       "      <th>1141725</th>\n",
       "      <th>pv</th>\n",
       "      <td>5</td>\n",
       "      <td>2017-05-03 01:00:56</td>\n",
       "      <td>2017-05-03 09:12:20</td>\n",
       "      <td>5</td>\n",
       "      <td>5</td>\n",
       "      <td>2</td>\n",
       "      <td>1</td>\n",
       "    </tr>\n",
       "    <tr>\n",
       "      <th>1141726</th>\n",
       "      <th>pv</th>\n",
       "      <td>6</td>\n",
       "      <td>2017-05-02 22:25:57</td>\n",
       "      <td>2017-05-03 08:54:03</td>\n",
       "      <td>2</td>\n",
       "      <td>2</td>\n",
       "      <td>2</td>\n",
       "      <td>2</td>\n",
       "    </tr>\n",
       "  </tbody>\n",
       "</table>\n",
       "</div>"
      ],
      "text/plain": [
       "              time            time_min            time_max  cate  brand  hour  \\\n",
       "user    btag                                                                    \n",
       "1141704 pv       6 2017-05-02 16:13:32 2017-05-02 16:23:50     3      3     1   \n",
       "1141707 pv      36 2017-05-03 02:03:50 2017-05-03 11:43:22     3     10     2   \n",
       "1141708 cart     4 2017-05-03 02:22:10 2017-05-03 05:20:49     4      3     3   \n",
       "        pv      59 2017-05-03 02:19:32 2017-05-03 05:21:06     6      8     4   \n",
       "1141710 buy      1 2017-05-03 13:42:57 2017-05-03 13:42:57     1      1     1   \n",
       "        cart     3 2017-05-03 13:26:26 2017-05-03 13:40:50     1      2     1   \n",
       "        fav      3 2017-05-03 13:38:15 2017-05-03 14:22:26     2      2     2   \n",
       "        pv      31 2017-05-03 13:26:02 2017-05-05 16:35:37     7     11     3   \n",
       "1141713 pv      11 2017-05-02 23:18:18 2017-05-03 15:49:34     5      4     3   \n",
       "1141714 pv      15 2017-05-02 22:56:37 2017-05-03 06:16:26     8     11     5   \n",
       "1141715 fav      1 2017-05-02 16:39:51 2017-05-02 16:39:51     1      1     1   \n",
       "        pv       5 2017-05-02 16:39:51 2017-05-06 15:41:47     2      2     3   \n",
       "1141716 fav      1 2017-05-03 08:55:30 2017-05-03 08:55:30     1      1     1   \n",
       "        pv      23 2017-05-03 08:36:10 2017-05-03 09:15:32     3      5     2   \n",
       "1141718 pv       2 2017-05-03 12:29:40 2017-05-03 12:52:11     1      1     1   \n",
       "1141721 pv       1 2017-05-02 16:04:03 2017-05-02 16:04:03     1      1     1   \n",
       "1141722 pv       5 2017-05-03 01:36:41 2017-05-03 01:42:27     3      4     1   \n",
       "1141723 pv      17 2017-05-03 12:13:33 2017-05-03 15:05:19     5      8     3   \n",
       "1141725 pv       5 2017-05-03 01:00:56 2017-05-03 09:12:20     5      5     2   \n",
       "1141726 pv       6 2017-05-02 22:25:57 2017-05-03 08:54:03     2      2     2   \n",
       "\n",
       "              day  \n",
       "user    btag       \n",
       "1141704 pv      1  \n",
       "1141707 pv      1  \n",
       "1141708 cart    1  \n",
       "        pv      1  \n",
       "1141710 buy     1  \n",
       "        cart    1  \n",
       "        fav     1  \n",
       "        pv      2  \n",
       "1141713 pv      2  \n",
       "1141714 pv      2  \n",
       "1141715 fav     1  \n",
       "        pv      3  \n",
       "1141716 fav     1  \n",
       "        pv      1  \n",
       "1141718 pv      1  \n",
       "1141721 pv      1  \n",
       "1141722 pv      1  \n",
       "1141723 pv      1  \n",
       "1141725 pv      1  \n",
       "1141726 pv      2  "
      ]
     },
     "execution_count": 456,
     "metadata": {},
     "output_type": "execute_result"
    }
   ],
   "source": [
    "user_btag1.tail(20)"
   ]
  },
  {
   "cell_type": "code",
   "execution_count": null,
   "metadata": {},
   "outputs": [],
   "source": [
    "#focuse on buy behavior\n",
    "user_buy = user_bhv[user_bhv['btag'] == 'buy']\n",
    "user_buy.head()"
   ]
  },
  {
   "cell_type": "code",
   "execution_count": null,
   "metadata": {},
   "outputs": [],
   "source": [
    "user_buy.btag.hist()"
   ]
  },
  {
   "cell_type": "code",
   "execution_count": 467,
   "metadata": {},
   "outputs": [
    {
     "name": "stdout",
     "output_type": "stream",
     "text": [
      "1.34 percentage of user have at least one purchase\n"
     ]
    }
   ],
   "source": [
    "perc_buy = len(user_buy)/len(user_bhv)\n",
    "print('%.2f percentage of logs lead to a purchase'%(100*perc_buy))"
   ]
  },
  {
   "cell_type": "code",
   "execution_count": 461,
   "metadata": {},
   "outputs": [
    {
     "name": "stdout",
     "output_type": "stream",
     "text": [
      "11.207 percentage of user has at least one purchase\n"
     ]
    }
   ],
   "source": [
    "perc_user_buy = len(user_buy.groupby('user'))/len(user_bhv.groupby('user'))\n",
    "print('%.2f percentage of user have at least one purchase'%(100*perc_user_buy))"
   ]
  },
  {
   "cell_type": "markdown",
   "metadata": {},
   "source": [
    "We can estimate that, among the 700+ million logs, there are 7 million logs lead to a purchase behavior"
   ]
  },
  {
   "cell_type": "code",
   "execution_count": 470,
   "metadata": {},
   "outputs": [
    {
     "data": {
      "text/html": [
       "<div>\n",
       "<style scoped>\n",
       "    .dataframe tbody tr th:only-of-type {\n",
       "        vertical-align: middle;\n",
       "    }\n",
       "\n",
       "    .dataframe tbody tr th {\n",
       "        vertical-align: top;\n",
       "    }\n",
       "\n",
       "    .dataframe thead th {\n",
       "        text-align: right;\n",
       "    }\n",
       "</style>\n",
       "<table border=\"1\" class=\"dataframe\">\n",
       "  <thead>\n",
       "    <tr style=\"text-align: right;\">\n",
       "      <th></th>\n",
       "      <th>time_stamp</th>\n",
       "      <th>cate</th>\n",
       "      <th>brand</th>\n",
       "      <th>time</th>\n",
       "      <th>hour</th>\n",
       "      <th>day</th>\n",
       "      <th>cum_perc</th>\n",
       "    </tr>\n",
       "    <tr>\n",
       "      <th>btag</th>\n",
       "      <th></th>\n",
       "      <th></th>\n",
       "      <th></th>\n",
       "      <th></th>\n",
       "      <th></th>\n",
       "      <th></th>\n",
       "      <th></th>\n",
       "    </tr>\n",
       "  </thead>\n",
       "  <tbody>\n",
       "    <tr>\n",
       "      <th>1</th>\n",
       "      <td>49202</td>\n",
       "      <td>49202</td>\n",
       "      <td>49202</td>\n",
       "      <td>49202</td>\n",
       "      <td>49202</td>\n",
       "      <td>49202</td>\n",
       "      <td>0.749334</td>\n",
       "    </tr>\n",
       "    <tr>\n",
       "      <th>2</th>\n",
       "      <td>10940</td>\n",
       "      <td>10940</td>\n",
       "      <td>10940</td>\n",
       "      <td>10940</td>\n",
       "      <td>10940</td>\n",
       "      <td>10940</td>\n",
       "      <td>0.915947</td>\n",
       "    </tr>\n",
       "    <tr>\n",
       "      <th>3</th>\n",
       "      <td>3039</td>\n",
       "      <td>3039</td>\n",
       "      <td>3039</td>\n",
       "      <td>3039</td>\n",
       "      <td>3039</td>\n",
       "      <td>3039</td>\n",
       "      <td>0.962230</td>\n",
       "    </tr>\n",
       "    <tr>\n",
       "      <th>4</th>\n",
       "      <td>1255</td>\n",
       "      <td>1255</td>\n",
       "      <td>1255</td>\n",
       "      <td>1255</td>\n",
       "      <td>1255</td>\n",
       "      <td>1255</td>\n",
       "      <td>0.981344</td>\n",
       "    </tr>\n",
       "    <tr>\n",
       "      <th>5</th>\n",
       "      <td>528</td>\n",
       "      <td>528</td>\n",
       "      <td>528</td>\n",
       "      <td>528</td>\n",
       "      <td>528</td>\n",
       "      <td>528</td>\n",
       "      <td>0.989385</td>\n",
       "    </tr>\n",
       "    <tr>\n",
       "      <th>6</th>\n",
       "      <td>280</td>\n",
       "      <td>280</td>\n",
       "      <td>280</td>\n",
       "      <td>280</td>\n",
       "      <td>280</td>\n",
       "      <td>280</td>\n",
       "      <td>0.993649</td>\n",
       "    </tr>\n",
       "    <tr>\n",
       "      <th>7</th>\n",
       "      <td>137</td>\n",
       "      <td>137</td>\n",
       "      <td>137</td>\n",
       "      <td>137</td>\n",
       "      <td>137</td>\n",
       "      <td>137</td>\n",
       "      <td>0.995736</td>\n",
       "    </tr>\n",
       "    <tr>\n",
       "      <th>8</th>\n",
       "      <td>87</td>\n",
       "      <td>87</td>\n",
       "      <td>87</td>\n",
       "      <td>87</td>\n",
       "      <td>87</td>\n",
       "      <td>87</td>\n",
       "      <td>0.997061</td>\n",
       "    </tr>\n",
       "    <tr>\n",
       "      <th>9</th>\n",
       "      <td>58</td>\n",
       "      <td>58</td>\n",
       "      <td>58</td>\n",
       "      <td>58</td>\n",
       "      <td>58</td>\n",
       "      <td>58</td>\n",
       "      <td>0.997944</td>\n",
       "    </tr>\n",
       "    <tr>\n",
       "      <th>10</th>\n",
       "      <td>50</td>\n",
       "      <td>50</td>\n",
       "      <td>50</td>\n",
       "      <td>50</td>\n",
       "      <td>50</td>\n",
       "      <td>50</td>\n",
       "      <td>0.998705</td>\n",
       "    </tr>\n",
       "    <tr>\n",
       "      <th>11</th>\n",
       "      <td>16</td>\n",
       "      <td>16</td>\n",
       "      <td>16</td>\n",
       "      <td>16</td>\n",
       "      <td>16</td>\n",
       "      <td>16</td>\n",
       "      <td>0.998949</td>\n",
       "    </tr>\n",
       "    <tr>\n",
       "      <th>12</th>\n",
       "      <td>16</td>\n",
       "      <td>16</td>\n",
       "      <td>16</td>\n",
       "      <td>16</td>\n",
       "      <td>16</td>\n",
       "      <td>16</td>\n",
       "      <td>0.999193</td>\n",
       "    </tr>\n",
       "    <tr>\n",
       "      <th>13</th>\n",
       "      <td>8</td>\n",
       "      <td>8</td>\n",
       "      <td>8</td>\n",
       "      <td>8</td>\n",
       "      <td>8</td>\n",
       "      <td>8</td>\n",
       "      <td>0.999315</td>\n",
       "    </tr>\n",
       "    <tr>\n",
       "      <th>14</th>\n",
       "      <td>12</td>\n",
       "      <td>12</td>\n",
       "      <td>12</td>\n",
       "      <td>12</td>\n",
       "      <td>12</td>\n",
       "      <td>12</td>\n",
       "      <td>0.999497</td>\n",
       "    </tr>\n",
       "    <tr>\n",
       "      <th>15</th>\n",
       "      <td>12</td>\n",
       "      <td>12</td>\n",
       "      <td>12</td>\n",
       "      <td>12</td>\n",
       "      <td>12</td>\n",
       "      <td>12</td>\n",
       "      <td>0.999680</td>\n",
       "    </tr>\n",
       "    <tr>\n",
       "      <th>16</th>\n",
       "      <td>4</td>\n",
       "      <td>4</td>\n",
       "      <td>4</td>\n",
       "      <td>4</td>\n",
       "      <td>4</td>\n",
       "      <td>4</td>\n",
       "      <td>0.999741</td>\n",
       "    </tr>\n",
       "    <tr>\n",
       "      <th>17</th>\n",
       "      <td>1</td>\n",
       "      <td>1</td>\n",
       "      <td>1</td>\n",
       "      <td>1</td>\n",
       "      <td>1</td>\n",
       "      <td>1</td>\n",
       "      <td>0.999756</td>\n",
       "    </tr>\n",
       "    <tr>\n",
       "      <th>18</th>\n",
       "      <td>4</td>\n",
       "      <td>4</td>\n",
       "      <td>4</td>\n",
       "      <td>4</td>\n",
       "      <td>4</td>\n",
       "      <td>4</td>\n",
       "      <td>0.999817</td>\n",
       "    </tr>\n",
       "    <tr>\n",
       "      <th>19</th>\n",
       "      <td>4</td>\n",
       "      <td>4</td>\n",
       "      <td>4</td>\n",
       "      <td>4</td>\n",
       "      <td>4</td>\n",
       "      <td>4</td>\n",
       "      <td>0.999878</td>\n",
       "    </tr>\n",
       "    <tr>\n",
       "      <th>20</th>\n",
       "      <td>2</td>\n",
       "      <td>2</td>\n",
       "      <td>2</td>\n",
       "      <td>2</td>\n",
       "      <td>2</td>\n",
       "      <td>2</td>\n",
       "      <td>0.999909</td>\n",
       "    </tr>\n",
       "    <tr>\n",
       "      <th>21</th>\n",
       "      <td>1</td>\n",
       "      <td>1</td>\n",
       "      <td>1</td>\n",
       "      <td>1</td>\n",
       "      <td>1</td>\n",
       "      <td>1</td>\n",
       "      <td>0.999924</td>\n",
       "    </tr>\n",
       "    <tr>\n",
       "      <th>27</th>\n",
       "      <td>2</td>\n",
       "      <td>2</td>\n",
       "      <td>2</td>\n",
       "      <td>2</td>\n",
       "      <td>2</td>\n",
       "      <td>2</td>\n",
       "      <td>0.999954</td>\n",
       "    </tr>\n",
       "    <tr>\n",
       "      <th>35</th>\n",
       "      <td>1</td>\n",
       "      <td>1</td>\n",
       "      <td>1</td>\n",
       "      <td>1</td>\n",
       "      <td>1</td>\n",
       "      <td>1</td>\n",
       "      <td>0.999970</td>\n",
       "    </tr>\n",
       "    <tr>\n",
       "      <th>48</th>\n",
       "      <td>1</td>\n",
       "      <td>1</td>\n",
       "      <td>1</td>\n",
       "      <td>1</td>\n",
       "      <td>1</td>\n",
       "      <td>1</td>\n",
       "      <td>0.999985</td>\n",
       "    </tr>\n",
       "    <tr>\n",
       "      <th>79</th>\n",
       "      <td>1</td>\n",
       "      <td>1</td>\n",
       "      <td>1</td>\n",
       "      <td>1</td>\n",
       "      <td>1</td>\n",
       "      <td>1</td>\n",
       "      <td>1.000000</td>\n",
       "    </tr>\n",
       "  </tbody>\n",
       "</table>\n",
       "</div>"
      ],
      "text/plain": [
       "      time_stamp   cate  brand   time   hour    day  cum_perc\n",
       "btag                                                         \n",
       "1          49202  49202  49202  49202  49202  49202  0.749334\n",
       "2          10940  10940  10940  10940  10940  10940  0.915947\n",
       "3           3039   3039   3039   3039   3039   3039  0.962230\n",
       "4           1255   1255   1255   1255   1255   1255  0.981344\n",
       "5            528    528    528    528    528    528  0.989385\n",
       "6            280    280    280    280    280    280  0.993649\n",
       "7            137    137    137    137    137    137  0.995736\n",
       "8             87     87     87     87     87     87  0.997061\n",
       "9             58     58     58     58     58     58  0.997944\n",
       "10            50     50     50     50     50     50  0.998705\n",
       "11            16     16     16     16     16     16  0.998949\n",
       "12            16     16     16     16     16     16  0.999193\n",
       "13             8      8      8      8      8      8  0.999315\n",
       "14            12     12     12     12     12     12  0.999497\n",
       "15            12     12     12     12     12     12  0.999680\n",
       "16             4      4      4      4      4      4  0.999741\n",
       "17             1      1      1      1      1      1  0.999756\n",
       "18             4      4      4      4      4      4  0.999817\n",
       "19             4      4      4      4      4      4  0.999878\n",
       "20             2      2      2      2      2      2  0.999909\n",
       "21             1      1      1      1      1      1  0.999924\n",
       "27             2      2      2      2      2      2  0.999954\n",
       "35             1      1      1      1      1      1  0.999970\n",
       "48             1      1      1      1      1      1  0.999985\n",
       "79             1      1      1      1      1      1  1.000000"
      ]
     },
     "execution_count": 470,
     "metadata": {},
     "output_type": "execute_result"
    }
   ],
   "source": [
    "user_buy_group = user_buy.groupby('user').count().sort_values('time', ascending=False)\n",
    "user_buy_dist = user_buy_group.groupby('btag').count()\n",
    "user_buy_dist['cum_perc'] = user_buy_dist['time_stamp'].cumsum()/user_buy_dist['time_stamp'].sum()\n",
    "user_buy_dist"
   ]
  },
  {
   "cell_type": "code",
   "execution_count": 473,
   "metadata": {},
   "outputs": [
    {
     "name": "stdout",
     "output_type": "stream",
     "text": [
      "The maximum amount of purchases by an user is 79.\n",
      "74.93 percentage of users have only one purchase.\n",
      "91.59 percentage of users have two or less purchases.\n"
     ]
    }
   ],
   "source": [
    "print('The maximum amount of purchases by an user is %d.'%user_buy_dist.index[-1])\n",
    "print('%.2f percentage of users have only one purchase.'%(user_buy_dist.cum_perc.iloc[0]*100))\n",
    "print('%.2f percentage of users have two or less purchases.'%(user_buy_dist.cum_perc.iloc[1]*100))"
   ]
  },
  {
   "cell_type": "code",
   "execution_count": null,
   "metadata": {},
   "outputs": [],
   "source": []
  }
 ],
 "metadata": {
  "kernelspec": {
   "display_name": "Python 3",
   "language": "python",
   "name": "python3"
  },
  "language_info": {
   "codemirror_mode": {
    "name": "ipython",
    "version": 3
   },
   "file_extension": ".py",
   "mimetype": "text/x-python",
   "name": "python",
   "nbconvert_exporter": "python",
   "pygments_lexer": "ipython3",
   "version": "3.7.3"
  }
 },
 "nbformat": 4,
 "nbformat_minor": 2
}
