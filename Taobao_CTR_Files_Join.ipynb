{
 "cells": [
  {
   "cell_type": "markdown",
   "metadata": {},
   "source": [
    "### Data Introduction and Outline"
   ]
  },
  {
   "cell_type": "markdown",
   "metadata": {},
   "source": [
    "The data used is ad impression / click logs (26 million records) of randomly sampled 1,140,000 users from the website of Taobao for 8 days (2017-05-05 16:00:00 to 2017-05-13 15:59:46). Files description is as follows:\n",
    "\n",
    "* click through rate - click info 'raw_sample.csv'\n",
    "* user profile -'user_profile.csv'\n",
    "* advertises info - 'ad_feature.csv'\n",
    "* log behavior info - 'behavior_log.csv'\n",
    "\n",
    "Below we:\n",
    "1. join the file \"raw_sample\" with \"ad_feature\" on the key of ad_id \n",
    "2. then further join with the file \"user_profile\" on the key of user_id.\n",
    "3. save the master table to \"ctr_ad_user.csv\"\n",
    "4. extract the first day data to \"ctr_ad_user_test.csv\" to test function\n",
    "\n",
    "See \"User_Behavior_Exploration.ipynb\" and \"CTR_EDA.ipynb\" for further analysis."
   ]
  },
  {
   "cell_type": "code",
   "execution_count": 53,
   "metadata": {},
   "outputs": [],
   "source": [
    "import pandas as pd"
   ]
  },
  {
   "cell_type": "markdown",
   "metadata": {},
   "source": [
    "#### 1. An overview of CTR info"
   ]
  },
  {
   "cell_type": "code",
   "execution_count": 54,
   "metadata": {},
   "outputs": [],
   "source": [
    "ctr = pd.read_csv('data/raw_sample.csv')"
   ]
  },
  {
   "cell_type": "code",
   "execution_count": 55,
   "metadata": {
    "scrolled": true
   },
   "outputs": [
    {
     "name": "stdout",
     "output_type": "stream",
     "text": [
      "<class 'pandas.core.frame.DataFrame'>\n",
      "RangeIndex: 26557961 entries, 0 to 26557960\n",
      "Data columns (total 6 columns):\n",
      "user          int64\n",
      "time_stamp    int64\n",
      "adgroup_id    int64\n",
      "pid           object\n",
      "nonclk        int64\n",
      "clk           int64\n",
      "dtypes: int64(5), object(1)\n",
      "memory usage: 1.2+ GB\n"
     ]
    }
   ],
   "source": [
    "ctr.info()"
   ]
  },
  {
   "cell_type": "code",
   "execution_count": 56,
   "metadata": {},
   "outputs": [],
   "source": [
    "ctr['time'] = pd.to_datetime(ctr['time_stamp'], unit='s')"
   ]
  },
  {
   "cell_type": "code",
   "execution_count": 57,
   "metadata": {},
   "outputs": [
    {
     "data": {
      "text/html": [
       "<div>\n",
       "<style scoped>\n",
       "    .dataframe tbody tr th:only-of-type {\n",
       "        vertical-align: middle;\n",
       "    }\n",
       "\n",
       "    .dataframe tbody tr th {\n",
       "        vertical-align: top;\n",
       "    }\n",
       "\n",
       "    .dataframe thead th {\n",
       "        text-align: right;\n",
       "    }\n",
       "</style>\n",
       "<table border=\"1\" class=\"dataframe\">\n",
       "  <thead>\n",
       "    <tr style=\"text-align: right;\">\n",
       "      <th></th>\n",
       "      <th>user</th>\n",
       "      <th>time_stamp</th>\n",
       "      <th>adgroup_id</th>\n",
       "      <th>pid</th>\n",
       "      <th>nonclk</th>\n",
       "      <th>clk</th>\n",
       "      <th>time</th>\n",
       "    </tr>\n",
       "  </thead>\n",
       "  <tbody>\n",
       "    <tr>\n",
       "      <th>0</th>\n",
       "      <td>581738</td>\n",
       "      <td>1494137644</td>\n",
       "      <td>1</td>\n",
       "      <td>430548_1007</td>\n",
       "      <td>1</td>\n",
       "      <td>0</td>\n",
       "      <td>2017-05-07 06:14:04</td>\n",
       "    </tr>\n",
       "    <tr>\n",
       "      <th>1</th>\n",
       "      <td>449818</td>\n",
       "      <td>1494638778</td>\n",
       "      <td>3</td>\n",
       "      <td>430548_1007</td>\n",
       "      <td>1</td>\n",
       "      <td>0</td>\n",
       "      <td>2017-05-13 01:26:18</td>\n",
       "    </tr>\n",
       "    <tr>\n",
       "      <th>2</th>\n",
       "      <td>914836</td>\n",
       "      <td>1494650879</td>\n",
       "      <td>4</td>\n",
       "      <td>430548_1007</td>\n",
       "      <td>1</td>\n",
       "      <td>0</td>\n",
       "      <td>2017-05-13 04:47:59</td>\n",
       "    </tr>\n",
       "    <tr>\n",
       "      <th>3</th>\n",
       "      <td>914836</td>\n",
       "      <td>1494651029</td>\n",
       "      <td>5</td>\n",
       "      <td>430548_1007</td>\n",
       "      <td>1</td>\n",
       "      <td>0</td>\n",
       "      <td>2017-05-13 04:50:29</td>\n",
       "    </tr>\n",
       "    <tr>\n",
       "      <th>4</th>\n",
       "      <td>399907</td>\n",
       "      <td>1494302958</td>\n",
       "      <td>8</td>\n",
       "      <td>430548_1007</td>\n",
       "      <td>1</td>\n",
       "      <td>0</td>\n",
       "      <td>2017-05-09 04:09:18</td>\n",
       "    </tr>\n",
       "  </tbody>\n",
       "</table>\n",
       "</div>"
      ],
      "text/plain": [
       "     user  time_stamp  adgroup_id          pid  nonclk  clk  \\\n",
       "0  581738  1494137644           1  430548_1007       1    0   \n",
       "1  449818  1494638778           3  430548_1007       1    0   \n",
       "2  914836  1494650879           4  430548_1007       1    0   \n",
       "3  914836  1494651029           5  430548_1007       1    0   \n",
       "4  399907  1494302958           8  430548_1007       1    0   \n",
       "\n",
       "                 time  \n",
       "0 2017-05-07 06:14:04  \n",
       "1 2017-05-13 01:26:18  \n",
       "2 2017-05-13 04:47:59  \n",
       "3 2017-05-13 04:50:29  \n",
       "4 2017-05-09 04:09:18  "
      ]
     },
     "execution_count": 57,
     "metadata": {},
     "output_type": "execute_result"
    }
   ],
   "source": [
    "ctr.head()"
   ]
  },
  {
   "cell_type": "code",
   "execution_count": 58,
   "metadata": {},
   "outputs": [
    {
     "data": {
      "text/plain": [
       "(Timestamp('2017-05-05 16:00:00'), Timestamp('2017-05-13 15:59:46'))"
      ]
     },
     "execution_count": 58,
     "metadata": {},
     "output_type": "execute_result"
    }
   ],
   "source": [
    "ctr['time'].min(), ctr['time'].max()"
   ]
  },
  {
   "cell_type": "markdown",
   "metadata": {},
   "source": [
    "The entire dataset is from 2017-05-05 16:00:00 to 2017-05-13 15:59:46. "
   ]
  },
  {
   "cell_type": "markdown",
   "metadata": {},
   "source": [
    "#### 2.  Match the ad info with the CTR data"
   ]
  },
  {
   "cell_type": "code",
   "execution_count": 59,
   "metadata": {},
   "outputs": [],
   "source": [
    "ad = pd.read_csv('data/ad_feature.csv')"
   ]
  },
  {
   "cell_type": "code",
   "execution_count": 60,
   "metadata": {},
   "outputs": [
    {
     "name": "stdout",
     "output_type": "stream",
     "text": [
      "<class 'pandas.core.frame.DataFrame'>\n",
      "RangeIndex: 846811 entries, 0 to 846810\n",
      "Data columns (total 6 columns):\n",
      "adgroup_id     846811 non-null int64\n",
      "cate_id        846811 non-null int64\n",
      "campaign_id    846811 non-null int64\n",
      "customer       846811 non-null int64\n",
      "brand          600481 non-null float64\n",
      "price          846811 non-null float64\n",
      "dtypes: float64(2), int64(4)\n",
      "memory usage: 38.8 MB\n"
     ]
    }
   ],
   "source": [
    "ad.info()"
   ]
  },
  {
   "cell_type": "code",
   "execution_count": 61,
   "metadata": {},
   "outputs": [
    {
     "data": {
      "text/html": [
       "<div>\n",
       "<style scoped>\n",
       "    .dataframe tbody tr th:only-of-type {\n",
       "        vertical-align: middle;\n",
       "    }\n",
       "\n",
       "    .dataframe tbody tr th {\n",
       "        vertical-align: top;\n",
       "    }\n",
       "\n",
       "    .dataframe thead th {\n",
       "        text-align: right;\n",
       "    }\n",
       "</style>\n",
       "<table border=\"1\" class=\"dataframe\">\n",
       "  <thead>\n",
       "    <tr style=\"text-align: right;\">\n",
       "      <th></th>\n",
       "      <th>adgroup_id</th>\n",
       "      <th>cate_id</th>\n",
       "      <th>campaign_id</th>\n",
       "      <th>customer</th>\n",
       "      <th>brand</th>\n",
       "      <th>price</th>\n",
       "    </tr>\n",
       "  </thead>\n",
       "  <tbody>\n",
       "    <tr>\n",
       "      <th>count</th>\n",
       "      <td>846811.000000</td>\n",
       "      <td>846811.000000</td>\n",
       "      <td>846811.000000</td>\n",
       "      <td>846811.000000</td>\n",
       "      <td>600481.000000</td>\n",
       "      <td>8.468110e+05</td>\n",
       "    </tr>\n",
       "    <tr>\n",
       "      <th>mean</th>\n",
       "      <td>423406.000000</td>\n",
       "      <td>5868.593464</td>\n",
       "      <td>206552.604280</td>\n",
       "      <td>113180.406006</td>\n",
       "      <td>229254.422596</td>\n",
       "      <td>1.838867e+03</td>\n",
       "    </tr>\n",
       "    <tr>\n",
       "      <th>std</th>\n",
       "      <td>244453.423738</td>\n",
       "      <td>2705.171203</td>\n",
       "      <td>125192.340908</td>\n",
       "      <td>73435.834950</td>\n",
       "      <td>132288.849633</td>\n",
       "      <td>3.108877e+05</td>\n",
       "    </tr>\n",
       "    <tr>\n",
       "      <th>min</th>\n",
       "      <td>1.000000</td>\n",
       "      <td>1.000000</td>\n",
       "      <td>1.000000</td>\n",
       "      <td>1.000000</td>\n",
       "      <td>2.000000</td>\n",
       "      <td>1.000000e-02</td>\n",
       "    </tr>\n",
       "    <tr>\n",
       "      <th>25%</th>\n",
       "      <td>211703.500000</td>\n",
       "      <td>4383.000000</td>\n",
       "      <td>97583.000000</td>\n",
       "      <td>47960.000000</td>\n",
       "      <td>110616.000000</td>\n",
       "      <td>4.900000e+01</td>\n",
       "    </tr>\n",
       "    <tr>\n",
       "      <th>50%</th>\n",
       "      <td>423406.000000</td>\n",
       "      <td>6183.000000</td>\n",
       "      <td>200780.000000</td>\n",
       "      <td>107278.000000</td>\n",
       "      <td>234423.000000</td>\n",
       "      <td>1.390000e+02</td>\n",
       "    </tr>\n",
       "    <tr>\n",
       "      <th>75%</th>\n",
       "      <td>635108.500000</td>\n",
       "      <td>7047.000000</td>\n",
       "      <td>314565.500000</td>\n",
       "      <td>172013.500000</td>\n",
       "      <td>344818.000000</td>\n",
       "      <td>3.520000e+02</td>\n",
       "    </tr>\n",
       "    <tr>\n",
       "      <th>max</th>\n",
       "      <td>846811.000000</td>\n",
       "      <td>12960.000000</td>\n",
       "      <td>423436.000000</td>\n",
       "      <td>255875.000000</td>\n",
       "      <td>461497.000000</td>\n",
       "      <td>1.000000e+08</td>\n",
       "    </tr>\n",
       "  </tbody>\n",
       "</table>\n",
       "</div>"
      ],
      "text/plain": [
       "          adgroup_id        cate_id    campaign_id       customer  \\\n",
       "count  846811.000000  846811.000000  846811.000000  846811.000000   \n",
       "mean   423406.000000    5868.593464  206552.604280  113180.406006   \n",
       "std    244453.423738    2705.171203  125192.340908   73435.834950   \n",
       "min         1.000000       1.000000       1.000000       1.000000   \n",
       "25%    211703.500000    4383.000000   97583.000000   47960.000000   \n",
       "50%    423406.000000    6183.000000  200780.000000  107278.000000   \n",
       "75%    635108.500000    7047.000000  314565.500000  172013.500000   \n",
       "max    846811.000000   12960.000000  423436.000000  255875.000000   \n",
       "\n",
       "               brand         price  \n",
       "count  600481.000000  8.468110e+05  \n",
       "mean   229254.422596  1.838867e+03  \n",
       "std    132288.849633  3.108877e+05  \n",
       "min         2.000000  1.000000e-02  \n",
       "25%    110616.000000  4.900000e+01  \n",
       "50%    234423.000000  1.390000e+02  \n",
       "75%    344818.000000  3.520000e+02  \n",
       "max    461497.000000  1.000000e+08  "
      ]
     },
     "execution_count": 61,
     "metadata": {},
     "output_type": "execute_result"
    }
   ],
   "source": [
    "ad.describe()"
   ]
  },
  {
   "cell_type": "code",
   "execution_count": 62,
   "metadata": {},
   "outputs": [
    {
     "data": {
      "text/html": [
       "<div>\n",
       "<style scoped>\n",
       "    .dataframe tbody tr th:only-of-type {\n",
       "        vertical-align: middle;\n",
       "    }\n",
       "\n",
       "    .dataframe tbody tr th {\n",
       "        vertical-align: top;\n",
       "    }\n",
       "\n",
       "    .dataframe thead th {\n",
       "        text-align: right;\n",
       "    }\n",
       "</style>\n",
       "<table border=\"1\" class=\"dataframe\">\n",
       "  <thead>\n",
       "    <tr style=\"text-align: right;\">\n",
       "      <th></th>\n",
       "      <th>adgroup_id</th>\n",
       "      <th>cate_id</th>\n",
       "      <th>campaign_id</th>\n",
       "      <th>customer</th>\n",
       "      <th>brand</th>\n",
       "      <th>price</th>\n",
       "    </tr>\n",
       "  </thead>\n",
       "  <tbody>\n",
       "    <tr>\n",
       "      <th>0</th>\n",
       "      <td>63133</td>\n",
       "      <td>6406</td>\n",
       "      <td>83237</td>\n",
       "      <td>1</td>\n",
       "      <td>95471.0</td>\n",
       "      <td>170.00</td>\n",
       "    </tr>\n",
       "    <tr>\n",
       "      <th>1</th>\n",
       "      <td>313401</td>\n",
       "      <td>6406</td>\n",
       "      <td>83237</td>\n",
       "      <td>1</td>\n",
       "      <td>87331.0</td>\n",
       "      <td>199.00</td>\n",
       "    </tr>\n",
       "    <tr>\n",
       "      <th>2</th>\n",
       "      <td>248909</td>\n",
       "      <td>392</td>\n",
       "      <td>83237</td>\n",
       "      <td>1</td>\n",
       "      <td>32233.0</td>\n",
       "      <td>38.00</td>\n",
       "    </tr>\n",
       "    <tr>\n",
       "      <th>3</th>\n",
       "      <td>208458</td>\n",
       "      <td>392</td>\n",
       "      <td>83237</td>\n",
       "      <td>1</td>\n",
       "      <td>174374.0</td>\n",
       "      <td>139.00</td>\n",
       "    </tr>\n",
       "    <tr>\n",
       "      <th>4</th>\n",
       "      <td>110847</td>\n",
       "      <td>7211</td>\n",
       "      <td>135256</td>\n",
       "      <td>2</td>\n",
       "      <td>145952.0</td>\n",
       "      <td>32.99</td>\n",
       "    </tr>\n",
       "  </tbody>\n",
       "</table>\n",
       "</div>"
      ],
      "text/plain": [
       "   adgroup_id  cate_id  campaign_id  customer     brand   price\n",
       "0       63133     6406        83237         1   95471.0  170.00\n",
       "1      313401     6406        83237         1   87331.0  199.00\n",
       "2      248909      392        83237         1   32233.0   38.00\n",
       "3      208458      392        83237         1  174374.0  139.00\n",
       "4      110847     7211       135256         2  145952.0   32.99"
      ]
     },
     "execution_count": 62,
     "metadata": {},
     "output_type": "execute_result"
    }
   ],
   "source": [
    "ad.head()"
   ]
  },
  {
   "cell_type": "code",
   "execution_count": 63,
   "metadata": {
    "scrolled": false
   },
   "outputs": [],
   "source": [
    "ctr_ad = ctr.join(ad.set_index('adgroup_id'), on='adgroup_id')"
   ]
  },
  {
   "cell_type": "code",
   "execution_count": 64,
   "metadata": {},
   "outputs": [
    {
     "name": "stdout",
     "output_type": "stream",
     "text": [
      "<class 'pandas.core.frame.DataFrame'>\n",
      "RangeIndex: 26557961 entries, 0 to 26557960\n",
      "Data columns (total 12 columns):\n",
      "user           int64\n",
      "time_stamp     int64\n",
      "adgroup_id     int64\n",
      "pid            object\n",
      "nonclk         int64\n",
      "clk            int64\n",
      "time           datetime64[ns]\n",
      "cate_id        int64\n",
      "campaign_id    int64\n",
      "customer       int64\n",
      "brand          float64\n",
      "price          float64\n",
      "dtypes: datetime64[ns](1), float64(2), int64(8), object(1)\n",
      "memory usage: 2.4+ GB\n"
     ]
    }
   ],
   "source": [
    "ctr_ad.info()"
   ]
  },
  {
   "cell_type": "markdown",
   "metadata": {},
   "source": [
    "#### 3.  Match the user info with the CTR data"
   ]
  },
  {
   "cell_type": "code",
   "execution_count": 65,
   "metadata": {},
   "outputs": [],
   "source": [
    "user = pd.read_csv('data/user_profile.csv')"
   ]
  },
  {
   "cell_type": "code",
   "execution_count": 66,
   "metadata": {},
   "outputs": [
    {
     "name": "stdout",
     "output_type": "stream",
     "text": [
      "<class 'pandas.core.frame.DataFrame'>\n",
      "RangeIndex: 1061768 entries, 0 to 1061767\n",
      "Data columns (total 9 columns):\n",
      "userid                   1061768 non-null int64\n",
      "cms_segid                1061768 non-null int64\n",
      "cms_group_id             1061768 non-null int64\n",
      "final_gender_code        1061768 non-null int64\n",
      "age_level                1061768 non-null int64\n",
      "pvalue_level             485851 non-null float64\n",
      "shopping_level           1061768 non-null int64\n",
      "occupation               1061768 non-null int64\n",
      "new_user_class_level     716848 non-null float64\n",
      "dtypes: float64(2), int64(7)\n",
      "memory usage: 72.9 MB\n"
     ]
    }
   ],
   "source": [
    "user.info()"
   ]
  },
  {
   "cell_type": "code",
   "execution_count": 67,
   "metadata": {},
   "outputs": [
    {
     "data": {
      "text/html": [
       "<div>\n",
       "<style scoped>\n",
       "    .dataframe tbody tr th:only-of-type {\n",
       "        vertical-align: middle;\n",
       "    }\n",
       "\n",
       "    .dataframe tbody tr th {\n",
       "        vertical-align: top;\n",
       "    }\n",
       "\n",
       "    .dataframe thead th {\n",
       "        text-align: right;\n",
       "    }\n",
       "</style>\n",
       "<table border=\"1\" class=\"dataframe\">\n",
       "  <thead>\n",
       "    <tr style=\"text-align: right;\">\n",
       "      <th></th>\n",
       "      <th>userid</th>\n",
       "      <th>cms_segid</th>\n",
       "      <th>cms_group_id</th>\n",
       "      <th>final_gender_code</th>\n",
       "      <th>age_level</th>\n",
       "      <th>pvalue_level</th>\n",
       "      <th>shopping_level</th>\n",
       "      <th>occupation</th>\n",
       "      <th>new_user_class_level</th>\n",
       "    </tr>\n",
       "  </thead>\n",
       "  <tbody>\n",
       "    <tr>\n",
       "      <th>count</th>\n",
       "      <td>1.061768e+06</td>\n",
       "      <td>1.061768e+06</td>\n",
       "      <td>1.061768e+06</td>\n",
       "      <td>1.061768e+06</td>\n",
       "      <td>1.061768e+06</td>\n",
       "      <td>485851.000000</td>\n",
       "      <td>1.061768e+06</td>\n",
       "      <td>1.061768e+06</td>\n",
       "      <td>716848.000000</td>\n",
       "    </tr>\n",
       "    <tr>\n",
       "      <th>mean</th>\n",
       "      <td>5.713104e+05</td>\n",
       "      <td>1.512998e+01</td>\n",
       "      <td>5.542412e+00</td>\n",
       "      <td>1.644445e+00</td>\n",
       "      <td>3.410641e+00</td>\n",
       "      <td>1.759850</td>\n",
       "      <td>2.716854e+00</td>\n",
       "      <td>5.623074e-02</td>\n",
       "      <td>2.516379</td>\n",
       "    </tr>\n",
       "    <tr>\n",
       "      <th>std</th>\n",
       "      <td>3.295021e+05</td>\n",
       "      <td>2.535503e+01</td>\n",
       "      <td>3.178516e+00</td>\n",
       "      <td>4.786814e-01</td>\n",
       "      <td>1.227458e+00</td>\n",
       "      <td>0.581303</td>\n",
       "      <td>5.861036e-01</td>\n",
       "      <td>2.303669e-01</td>\n",
       "      <td>0.928334</td>\n",
       "    </tr>\n",
       "    <tr>\n",
       "      <th>min</th>\n",
       "      <td>1.000000e+00</td>\n",
       "      <td>0.000000e+00</td>\n",
       "      <td>0.000000e+00</td>\n",
       "      <td>1.000000e+00</td>\n",
       "      <td>0.000000e+00</td>\n",
       "      <td>1.000000</td>\n",
       "      <td>1.000000e+00</td>\n",
       "      <td>0.000000e+00</td>\n",
       "      <td>1.000000</td>\n",
       "    </tr>\n",
       "    <tr>\n",
       "      <th>25%</th>\n",
       "      <td>2.862458e+05</td>\n",
       "      <td>0.000000e+00</td>\n",
       "      <td>3.000000e+00</td>\n",
       "      <td>1.000000e+00</td>\n",
       "      <td>3.000000e+00</td>\n",
       "      <td>1.000000</td>\n",
       "      <td>3.000000e+00</td>\n",
       "      <td>0.000000e+00</td>\n",
       "      <td>2.000000</td>\n",
       "    </tr>\n",
       "    <tr>\n",
       "      <th>50%</th>\n",
       "      <td>5.714555e+05</td>\n",
       "      <td>0.000000e+00</td>\n",
       "      <td>4.000000e+00</td>\n",
       "      <td>2.000000e+00</td>\n",
       "      <td>3.000000e+00</td>\n",
       "      <td>2.000000</td>\n",
       "      <td>3.000000e+00</td>\n",
       "      <td>0.000000e+00</td>\n",
       "      <td>2.000000</td>\n",
       "    </tr>\n",
       "    <tr>\n",
       "      <th>75%</th>\n",
       "      <td>8.546662e+05</td>\n",
       "      <td>2.000000e+01</td>\n",
       "      <td>9.000000e+00</td>\n",
       "      <td>2.000000e+00</td>\n",
       "      <td>4.000000e+00</td>\n",
       "      <td>2.000000</td>\n",
       "      <td>3.000000e+00</td>\n",
       "      <td>0.000000e+00</td>\n",
       "      <td>3.000000</td>\n",
       "    </tr>\n",
       "    <tr>\n",
       "      <th>max</th>\n",
       "      <td>1.141729e+06</td>\n",
       "      <td>9.600000e+01</td>\n",
       "      <td>1.200000e+01</td>\n",
       "      <td>2.000000e+00</td>\n",
       "      <td>6.000000e+00</td>\n",
       "      <td>3.000000</td>\n",
       "      <td>3.000000e+00</td>\n",
       "      <td>1.000000e+00</td>\n",
       "      <td>4.000000</td>\n",
       "    </tr>\n",
       "  </tbody>\n",
       "</table>\n",
       "</div>"
      ],
      "text/plain": [
       "             userid     cms_segid  cms_group_id  final_gender_code  \\\n",
       "count  1.061768e+06  1.061768e+06  1.061768e+06       1.061768e+06   \n",
       "mean   5.713104e+05  1.512998e+01  5.542412e+00       1.644445e+00   \n",
       "std    3.295021e+05  2.535503e+01  3.178516e+00       4.786814e-01   \n",
       "min    1.000000e+00  0.000000e+00  0.000000e+00       1.000000e+00   \n",
       "25%    2.862458e+05  0.000000e+00  3.000000e+00       1.000000e+00   \n",
       "50%    5.714555e+05  0.000000e+00  4.000000e+00       2.000000e+00   \n",
       "75%    8.546662e+05  2.000000e+01  9.000000e+00       2.000000e+00   \n",
       "max    1.141729e+06  9.600000e+01  1.200000e+01       2.000000e+00   \n",
       "\n",
       "          age_level   pvalue_level  shopping_level    occupation  \\\n",
       "count  1.061768e+06  485851.000000    1.061768e+06  1.061768e+06   \n",
       "mean   3.410641e+00       1.759850    2.716854e+00  5.623074e-02   \n",
       "std    1.227458e+00       0.581303    5.861036e-01  2.303669e-01   \n",
       "min    0.000000e+00       1.000000    1.000000e+00  0.000000e+00   \n",
       "25%    3.000000e+00       1.000000    3.000000e+00  0.000000e+00   \n",
       "50%    3.000000e+00       2.000000    3.000000e+00  0.000000e+00   \n",
       "75%    4.000000e+00       2.000000    3.000000e+00  0.000000e+00   \n",
       "max    6.000000e+00       3.000000    3.000000e+00  1.000000e+00   \n",
       "\n",
       "       new_user_class_level   \n",
       "count          716848.000000  \n",
       "mean                2.516379  \n",
       "std                 0.928334  \n",
       "min                 1.000000  \n",
       "25%                 2.000000  \n",
       "50%                 2.000000  \n",
       "75%                 3.000000  \n",
       "max                 4.000000  "
      ]
     },
     "execution_count": 67,
     "metadata": {},
     "output_type": "execute_result"
    }
   ],
   "source": [
    "user.describe()"
   ]
  },
  {
   "cell_type": "code",
   "execution_count": 68,
   "metadata": {},
   "outputs": [
    {
     "data": {
      "text/html": [
       "<div>\n",
       "<style scoped>\n",
       "    .dataframe tbody tr th:only-of-type {\n",
       "        vertical-align: middle;\n",
       "    }\n",
       "\n",
       "    .dataframe tbody tr th {\n",
       "        vertical-align: top;\n",
       "    }\n",
       "\n",
       "    .dataframe thead th {\n",
       "        text-align: right;\n",
       "    }\n",
       "</style>\n",
       "<table border=\"1\" class=\"dataframe\">\n",
       "  <thead>\n",
       "    <tr style=\"text-align: right;\">\n",
       "      <th></th>\n",
       "      <th>userid</th>\n",
       "      <th>cms_segid</th>\n",
       "      <th>cms_group_id</th>\n",
       "      <th>final_gender_code</th>\n",
       "      <th>age_level</th>\n",
       "      <th>pvalue_level</th>\n",
       "      <th>shopping_level</th>\n",
       "      <th>occupation</th>\n",
       "      <th>new_user_class_level</th>\n",
       "    </tr>\n",
       "  </thead>\n",
       "  <tbody>\n",
       "    <tr>\n",
       "      <th>0</th>\n",
       "      <td>234</td>\n",
       "      <td>0</td>\n",
       "      <td>5</td>\n",
       "      <td>2</td>\n",
       "      <td>5</td>\n",
       "      <td>NaN</td>\n",
       "      <td>3</td>\n",
       "      <td>0</td>\n",
       "      <td>3.0</td>\n",
       "    </tr>\n",
       "    <tr>\n",
       "      <th>1</th>\n",
       "      <td>523</td>\n",
       "      <td>5</td>\n",
       "      <td>2</td>\n",
       "      <td>2</td>\n",
       "      <td>2</td>\n",
       "      <td>1.0</td>\n",
       "      <td>3</td>\n",
       "      <td>1</td>\n",
       "      <td>2.0</td>\n",
       "    </tr>\n",
       "    <tr>\n",
       "      <th>2</th>\n",
       "      <td>612</td>\n",
       "      <td>0</td>\n",
       "      <td>8</td>\n",
       "      <td>1</td>\n",
       "      <td>2</td>\n",
       "      <td>2.0</td>\n",
       "      <td>3</td>\n",
       "      <td>0</td>\n",
       "      <td>NaN</td>\n",
       "    </tr>\n",
       "    <tr>\n",
       "      <th>3</th>\n",
       "      <td>1670</td>\n",
       "      <td>0</td>\n",
       "      <td>4</td>\n",
       "      <td>2</td>\n",
       "      <td>4</td>\n",
       "      <td>NaN</td>\n",
       "      <td>1</td>\n",
       "      <td>0</td>\n",
       "      <td>NaN</td>\n",
       "    </tr>\n",
       "    <tr>\n",
       "      <th>4</th>\n",
       "      <td>2545</td>\n",
       "      <td>0</td>\n",
       "      <td>10</td>\n",
       "      <td>1</td>\n",
       "      <td>4</td>\n",
       "      <td>NaN</td>\n",
       "      <td>3</td>\n",
       "      <td>0</td>\n",
       "      <td>NaN</td>\n",
       "    </tr>\n",
       "  </tbody>\n",
       "</table>\n",
       "</div>"
      ],
      "text/plain": [
       "   userid  cms_segid  cms_group_id  final_gender_code  age_level  \\\n",
       "0     234          0             5                  2          5   \n",
       "1     523          5             2                  2          2   \n",
       "2     612          0             8                  1          2   \n",
       "3    1670          0             4                  2          4   \n",
       "4    2545          0            10                  1          4   \n",
       "\n",
       "   pvalue_level  shopping_level  occupation  new_user_class_level   \n",
       "0           NaN               3           0                    3.0  \n",
       "1           1.0               3           1                    2.0  \n",
       "2           2.0               3           0                    NaN  \n",
       "3           NaN               1           0                    NaN  \n",
       "4           NaN               3           0                    NaN  "
      ]
     },
     "execution_count": 68,
     "metadata": {},
     "output_type": "execute_result"
    }
   ],
   "source": [
    "user.head()"
   ]
  },
  {
   "cell_type": "code",
   "execution_count": 69,
   "metadata": {},
   "outputs": [],
   "source": [
    "ctr_ad_user = ctr_ad.join(user.set_index('userid'), on='user')"
   ]
  },
  {
   "cell_type": "code",
   "execution_count": 70,
   "metadata": {},
   "outputs": [
    {
     "name": "stdout",
     "output_type": "stream",
     "text": [
      "<class 'pandas.core.frame.DataFrame'>\n",
      "RangeIndex: 26557961 entries, 0 to 26557960\n",
      "Data columns (total 20 columns):\n",
      "user                     int64\n",
      "time_stamp               int64\n",
      "adgroup_id               int64\n",
      "pid                      object\n",
      "nonclk                   int64\n",
      "clk                      int64\n",
      "time                     datetime64[ns]\n",
      "cate_id                  int64\n",
      "campaign_id              int64\n",
      "customer                 int64\n",
      "brand                    float64\n",
      "price                    float64\n",
      "cms_segid                float64\n",
      "cms_group_id             float64\n",
      "final_gender_code        float64\n",
      "age_level                float64\n",
      "pvalue_level             float64\n",
      "shopping_level           float64\n",
      "occupation               float64\n",
      "new_user_class_level     float64\n",
      "dtypes: datetime64[ns](1), float64(10), int64(8), object(1)\n",
      "memory usage: 4.0+ GB\n"
     ]
    }
   ],
   "source": [
    "ctr_ad_user.info()"
   ]
  },
  {
   "cell_type": "code",
   "execution_count": 71,
   "metadata": {},
   "outputs": [],
   "source": [
    "ctr_ad_user.to_csv(r\"data/ctr_ad_user.csv\")"
   ]
  },
  {
   "cell_type": "markdown",
   "metadata": {},
   "source": [
    "#### 4. Extract a sample to test function"
   ]
  },
  {
   "cell_type": "markdown",
   "metadata": {},
   "source": [
    "We extract a subset of the data to test functions. The subset data is from 2017-05-05 16:00:00 to 2017-05-06 15:59:46."
   ]
  },
  {
   "cell_type": "code",
   "execution_count": 72,
   "metadata": {},
   "outputs": [],
   "source": [
    "cut_low = pd.to_datetime('2017-05-05 16:00:00')\n",
    "cut_up = pd.to_datetime('2017-05-06 15:59:59')\n",
    "\n",
    "mask_ctr = (ctr['time'] > cut_low) & (ctr['time'] < cut_up)"
   ]
  },
  {
   "cell_type": "code",
   "execution_count": 73,
   "metadata": {},
   "outputs": [],
   "source": [
    "ctr_test = ctr_ad_user[mask_ctr]"
   ]
  },
  {
   "cell_type": "code",
   "execution_count": 74,
   "metadata": {},
   "outputs": [],
   "source": [
    "ctr_test.to_csv(r\"data/test/ctr_ad_user_test.csv\")"
   ]
  },
  {
   "cell_type": "code",
   "execution_count": 75,
   "metadata": {},
   "outputs": [
    {
     "name": "stdout",
     "output_type": "stream",
     "text": [
      "total 55698520\r\n",
      "-rw-r--r--@ 1 elainewu  staff    30M Jun  7  2017 ad_feature.csv\r\n",
      "-rw-r--r--@ 1 elainewu  staff    22G Jun  4  2017 behavior_log.csv\r\n",
      "-rw-r--r--  1 elainewu  staff   219M Oct 16 10:54 behavior_test.csv\r\n",
      "-rw-r--r--  1 elainewu  staff   3.2G Oct 16 11:42 ctr_ad_user.csv\r\n",
      "-rw-r--r--@ 1 elainewu  staff   1.0G Jun  7  2017 raw_sample.csv\r\n",
      "drwxr-xr-x  6 elainewu  staff   204B Oct 15 13:50 \u001b[34mtest\u001b[m\u001b[m\r\n",
      "-rw-r--r--@ 1 elainewu  staff    23M Jun  4  2017 user_profile.csv\r\n"
     ]
    }
   ],
   "source": [
    "!ls -lh data/"
   ]
  },
  {
   "cell_type": "code",
   "execution_count": 13,
   "metadata": {},
   "outputs": [
    {
     "data": {
      "text/html": [
       "<div>\n",
       "<style scoped>\n",
       "    .dataframe tbody tr th:only-of-type {\n",
       "        vertical-align: middle;\n",
       "    }\n",
       "\n",
       "    .dataframe tbody tr th {\n",
       "        vertical-align: top;\n",
       "    }\n",
       "\n",
       "    .dataframe thead th {\n",
       "        text-align: right;\n",
       "    }\n",
       "</style>\n",
       "<table border=\"1\" class=\"dataframe\">\n",
       "  <thead>\n",
       "    <tr style=\"text-align: right;\">\n",
       "      <th></th>\n",
       "      <th>user</th>\n",
       "      <th>time_stamp</th>\n",
       "      <th>btag</th>\n",
       "      <th>cate</th>\n",
       "      <th>brand</th>\n",
       "    </tr>\n",
       "  </thead>\n",
       "  <tbody>\n",
       "    <tr>\n",
       "      <th>0</th>\n",
       "      <td>558157</td>\n",
       "      <td>1493741625</td>\n",
       "      <td>pv</td>\n",
       "      <td>6250</td>\n",
       "      <td>91286</td>\n",
       "    </tr>\n",
       "    <tr>\n",
       "      <th>1</th>\n",
       "      <td>558157</td>\n",
       "      <td>1493741626</td>\n",
       "      <td>pv</td>\n",
       "      <td>6250</td>\n",
       "      <td>91286</td>\n",
       "    </tr>\n",
       "    <tr>\n",
       "      <th>2</th>\n",
       "      <td>558157</td>\n",
       "      <td>1493741627</td>\n",
       "      <td>pv</td>\n",
       "      <td>6250</td>\n",
       "      <td>91286</td>\n",
       "    </tr>\n",
       "    <tr>\n",
       "      <th>3</th>\n",
       "      <td>728690</td>\n",
       "      <td>1493776998</td>\n",
       "      <td>pv</td>\n",
       "      <td>11800</td>\n",
       "      <td>62353</td>\n",
       "    </tr>\n",
       "    <tr>\n",
       "      <th>4</th>\n",
       "      <td>332634</td>\n",
       "      <td>1493809895</td>\n",
       "      <td>pv</td>\n",
       "      <td>1101</td>\n",
       "      <td>365477</td>\n",
       "    </tr>\n",
       "  </tbody>\n",
       "</table>\n",
       "</div>"
      ],
      "text/plain": [
       "     user  time_stamp btag   cate   brand\n",
       "0  558157  1493741625   pv   6250   91286\n",
       "1  558157  1493741626   pv   6250   91286\n",
       "2  558157  1493741627   pv   6250   91286\n",
       "3  728690  1493776998   pv  11800   62353\n",
       "4  332634  1493809895   pv   1101  365477"
      ]
     },
     "execution_count": 13,
     "metadata": {},
     "output_type": "execute_result"
    }
   ],
   "source": [
    "behavior.head()"
   ]
  },
  {
   "cell_type": "code",
   "execution_count": null,
   "metadata": {},
   "outputs": [],
   "source": []
  }
 ],
 "metadata": {
  "kernelspec": {
   "display_name": "Python 3",
   "language": "python",
   "name": "python3"
  },
  "language_info": {
   "codemirror_mode": {
    "name": "ipython",
    "version": 3
   },
   "file_extension": ".py",
   "mimetype": "text/x-python",
   "name": "python",
   "nbconvert_exporter": "python",
   "pygments_lexer": "ipython3",
   "version": "3.7.3"
  }
 },
 "nbformat": 4,
 "nbformat_minor": 2
}
